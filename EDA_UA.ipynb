{
 "cells": [
  {
   "cell_type": "markdown",
   "id": "52c0ef80-2142-4db8-b4f0-4181a94c8f43",
   "metadata": {
    "tags": []
   },
   "source": [
    "# Lending Club Case Study:"
   ]
  },
  {
   "cell_type": "markdown",
   "id": "7eee8b58-5306-403f-9dfd-5710448c54e6",
   "metadata": {},
   "source": [
    "- Define Problem Statement\n",
    "- Background - why is it important to solve this problem\n",
    "- Approach to solve this"
   ]
  },
  {
   "cell_type": "markdown",
   "id": "84e7c8dd-95fe-4368-a511-c8ba55a4c3c7",
   "metadata": {},
   "source": [
    "Noted from session:\n",
    "remove the 'Current' applicaants\n",
    "remove loan behavior variable as they are not available at application\n"
   ]
  },
  {
   "cell_type": "markdown",
   "id": "9dee0a2c-a2e0-45aa-84c2-77dd4690d9d3",
   "metadata": {},
   "source": [
    "### Import libraries\n"
   ]
  },
  {
   "cell_type": "code",
   "execution_count": 1,
   "id": "1cfc6fe5-9b8f-425c-8438-0dffe798fc8d",
   "metadata": {},
   "outputs": [],
   "source": [
    "#Importing libraries needed for this EDA\n",
    "import numpy as np\n",
    "import pandas as pd\n",
    "import matplotlib.pyplot as plt\n",
    "import seaborn as sns"
   ]
  },
  {
   "cell_type": "markdown",
   "id": "bb3edb90-1c04-4095-8283-dfe81ad7c546",
   "metadata": {
    "tags": []
   },
   "source": [
    "## 1.) Data Sourcing / Gathering & Understanding:"
   ]
  },
  {
   "cell_type": "code",
   "execution_count": 2,
   "id": "67f0ec30-d6a0-4059-84ec-6664c4617734",
   "metadata": {},
   "outputs": [
    {
     "name": "stderr",
     "output_type": "stream",
     "text": [
      "C:\\Users\\Yukay\\anaconda3\\envs\\myEnv\\lib\\site-packages\\IPython\\core\\interactiveshell.py:3441: DtypeWarning: Columns (47) have mixed types.Specify dtype option on import or set low_memory=False.\n",
      "  exec(code_obj, self.user_global_ns, self.user_ns)\n"
     ]
    },
    {
     "data": {
      "text/plain": [
       "(39717, 111)"
      ]
     },
     "execution_count": 2,
     "metadata": {},
     "output_type": "execute_result"
    }
   ],
   "source": [
    "#extract data from csv file\n",
    "loan_df = pd.read_csv('loan.csv')\n",
    "loan_df.shape # check shape to know how many rows and columns have been loaded into the dataframe"
   ]
  },
  {
   "cell_type": "code",
   "execution_count": 3,
   "id": "4a05d5d0-7989-4f2d-ad71-61b997f67d84",
   "metadata": {
    "tags": []
   },
   "outputs": [
    {
     "data": {
      "text/html": [
       "<div>\n",
       "<style scoped>\n",
       "    .dataframe tbody tr th:only-of-type {\n",
       "        vertical-align: middle;\n",
       "    }\n",
       "\n",
       "    .dataframe tbody tr th {\n",
       "        vertical-align: top;\n",
       "    }\n",
       "\n",
       "    .dataframe thead th {\n",
       "        text-align: right;\n",
       "    }\n",
       "</style>\n",
       "<table border=\"1\" class=\"dataframe\">\n",
       "  <thead>\n",
       "    <tr style=\"text-align: right;\">\n",
       "      <th></th>\n",
       "      <th>id</th>\n",
       "      <th>member_id</th>\n",
       "      <th>loan_amnt</th>\n",
       "      <th>funded_amnt</th>\n",
       "      <th>funded_amnt_inv</th>\n",
       "      <th>term</th>\n",
       "      <th>int_rate</th>\n",
       "      <th>installment</th>\n",
       "      <th>grade</th>\n",
       "      <th>sub_grade</th>\n",
       "      <th>...</th>\n",
       "      <th>num_tl_90g_dpd_24m</th>\n",
       "      <th>num_tl_op_past_12m</th>\n",
       "      <th>pct_tl_nvr_dlq</th>\n",
       "      <th>percent_bc_gt_75</th>\n",
       "      <th>pub_rec_bankruptcies</th>\n",
       "      <th>tax_liens</th>\n",
       "      <th>tot_hi_cred_lim</th>\n",
       "      <th>total_bal_ex_mort</th>\n",
       "      <th>total_bc_limit</th>\n",
       "      <th>total_il_high_credit_limit</th>\n",
       "    </tr>\n",
       "  </thead>\n",
       "  <tbody>\n",
       "    <tr>\n",
       "      <th>0</th>\n",
       "      <td>1077501</td>\n",
       "      <td>1296599</td>\n",
       "      <td>5000</td>\n",
       "      <td>5000</td>\n",
       "      <td>4975.0</td>\n",
       "      <td>36 months</td>\n",
       "      <td>10.65%</td>\n",
       "      <td>162.87</td>\n",
       "      <td>B</td>\n",
       "      <td>B2</td>\n",
       "      <td>...</td>\n",
       "      <td>NaN</td>\n",
       "      <td>NaN</td>\n",
       "      <td>NaN</td>\n",
       "      <td>NaN</td>\n",
       "      <td>0.0</td>\n",
       "      <td>0.0</td>\n",
       "      <td>NaN</td>\n",
       "      <td>NaN</td>\n",
       "      <td>NaN</td>\n",
       "      <td>NaN</td>\n",
       "    </tr>\n",
       "    <tr>\n",
       "      <th>1</th>\n",
       "      <td>1077430</td>\n",
       "      <td>1314167</td>\n",
       "      <td>2500</td>\n",
       "      <td>2500</td>\n",
       "      <td>2500.0</td>\n",
       "      <td>60 months</td>\n",
       "      <td>15.27%</td>\n",
       "      <td>59.83</td>\n",
       "      <td>C</td>\n",
       "      <td>C4</td>\n",
       "      <td>...</td>\n",
       "      <td>NaN</td>\n",
       "      <td>NaN</td>\n",
       "      <td>NaN</td>\n",
       "      <td>NaN</td>\n",
       "      <td>0.0</td>\n",
       "      <td>0.0</td>\n",
       "      <td>NaN</td>\n",
       "      <td>NaN</td>\n",
       "      <td>NaN</td>\n",
       "      <td>NaN</td>\n",
       "    </tr>\n",
       "    <tr>\n",
       "      <th>2</th>\n",
       "      <td>1077175</td>\n",
       "      <td>1313524</td>\n",
       "      <td>2400</td>\n",
       "      <td>2400</td>\n",
       "      <td>2400.0</td>\n",
       "      <td>36 months</td>\n",
       "      <td>15.96%</td>\n",
       "      <td>84.33</td>\n",
       "      <td>C</td>\n",
       "      <td>C5</td>\n",
       "      <td>...</td>\n",
       "      <td>NaN</td>\n",
       "      <td>NaN</td>\n",
       "      <td>NaN</td>\n",
       "      <td>NaN</td>\n",
       "      <td>0.0</td>\n",
       "      <td>0.0</td>\n",
       "      <td>NaN</td>\n",
       "      <td>NaN</td>\n",
       "      <td>NaN</td>\n",
       "      <td>NaN</td>\n",
       "    </tr>\n",
       "    <tr>\n",
       "      <th>3</th>\n",
       "      <td>1076863</td>\n",
       "      <td>1277178</td>\n",
       "      <td>10000</td>\n",
       "      <td>10000</td>\n",
       "      <td>10000.0</td>\n",
       "      <td>36 months</td>\n",
       "      <td>13.49%</td>\n",
       "      <td>339.31</td>\n",
       "      <td>C</td>\n",
       "      <td>C1</td>\n",
       "      <td>...</td>\n",
       "      <td>NaN</td>\n",
       "      <td>NaN</td>\n",
       "      <td>NaN</td>\n",
       "      <td>NaN</td>\n",
       "      <td>0.0</td>\n",
       "      <td>0.0</td>\n",
       "      <td>NaN</td>\n",
       "      <td>NaN</td>\n",
       "      <td>NaN</td>\n",
       "      <td>NaN</td>\n",
       "    </tr>\n",
       "    <tr>\n",
       "      <th>4</th>\n",
       "      <td>1075358</td>\n",
       "      <td>1311748</td>\n",
       "      <td>3000</td>\n",
       "      <td>3000</td>\n",
       "      <td>3000.0</td>\n",
       "      <td>60 months</td>\n",
       "      <td>12.69%</td>\n",
       "      <td>67.79</td>\n",
       "      <td>B</td>\n",
       "      <td>B5</td>\n",
       "      <td>...</td>\n",
       "      <td>NaN</td>\n",
       "      <td>NaN</td>\n",
       "      <td>NaN</td>\n",
       "      <td>NaN</td>\n",
       "      <td>0.0</td>\n",
       "      <td>0.0</td>\n",
       "      <td>NaN</td>\n",
       "      <td>NaN</td>\n",
       "      <td>NaN</td>\n",
       "      <td>NaN</td>\n",
       "    </tr>\n",
       "  </tbody>\n",
       "</table>\n",
       "<p>5 rows × 111 columns</p>\n",
       "</div>"
      ],
      "text/plain": [
       "        id  member_id  loan_amnt  funded_amnt  funded_amnt_inv        term  \\\n",
       "0  1077501    1296599       5000         5000           4975.0   36 months   \n",
       "1  1077430    1314167       2500         2500           2500.0   60 months   \n",
       "2  1077175    1313524       2400         2400           2400.0   36 months   \n",
       "3  1076863    1277178      10000        10000          10000.0   36 months   \n",
       "4  1075358    1311748       3000         3000           3000.0   60 months   \n",
       "\n",
       "  int_rate  installment grade sub_grade  ... num_tl_90g_dpd_24m  \\\n",
       "0   10.65%       162.87     B        B2  ...                NaN   \n",
       "1   15.27%        59.83     C        C4  ...                NaN   \n",
       "2   15.96%        84.33     C        C5  ...                NaN   \n",
       "3   13.49%       339.31     C        C1  ...                NaN   \n",
       "4   12.69%        67.79     B        B5  ...                NaN   \n",
       "\n",
       "  num_tl_op_past_12m pct_tl_nvr_dlq  percent_bc_gt_75 pub_rec_bankruptcies  \\\n",
       "0                NaN            NaN               NaN                  0.0   \n",
       "1                NaN            NaN               NaN                  0.0   \n",
       "2                NaN            NaN               NaN                  0.0   \n",
       "3                NaN            NaN               NaN                  0.0   \n",
       "4                NaN            NaN               NaN                  0.0   \n",
       "\n",
       "  tax_liens tot_hi_cred_lim total_bal_ex_mort total_bc_limit  \\\n",
       "0       0.0             NaN               NaN            NaN   \n",
       "1       0.0             NaN               NaN            NaN   \n",
       "2       0.0             NaN               NaN            NaN   \n",
       "3       0.0             NaN               NaN            NaN   \n",
       "4       0.0             NaN               NaN            NaN   \n",
       "\n",
       "  total_il_high_credit_limit  \n",
       "0                        NaN  \n",
       "1                        NaN  \n",
       "2                        NaN  \n",
       "3                        NaN  \n",
       "4                        NaN  \n",
       "\n",
       "[5 rows x 111 columns]"
      ]
     },
     "execution_count": 3,
     "metadata": {},
     "output_type": "execute_result"
    }
   ],
   "source": [
    "#inspect sample rows\n",
    "loan_df.head()"
   ]
  },
  {
   "cell_type": "markdown",
   "id": "3ce63809-2b5e-412b-b6bd-2710d15a115c",
   "metadata": {},
   "source": [
    "Refer to data dictionary to decide which columns are needed and which can be removed\n",
    " - list of columns, data dictionary definition"
   ]
  },
  {
   "cell_type": "code",
   "execution_count": 4,
   "id": "dbd13448-cbbe-4a9c-9a63-b2f4f5d87eaf",
   "metadata": {},
   "outputs": [
    {
     "data": {
      "text/plain": [
       "(39717, 101)"
      ]
     },
     "execution_count": 4,
     "metadata": {},
     "output_type": "execute_result"
    }
   ],
   "source": [
    "#Remove data not in scope of our analysis\n",
    "post_loan_data_points = ['total_pymnt','total_pymnt_inv','total_rec_prncp','total_rec_int'\n",
    "                         ,'total_rec_late_fee','pymnt_plan','out_prncp','out_prncp_inv'\n",
    "                        ,'last_pymnt_d','last_pymnt_amnt']\n",
    "\n",
    "loan_df.drop(labels = post_loan_data_points, axis =1, inplace = True)\n",
    "\n",
    "loan_df.shape # check shape to know how many rows and columns have been loaded into the dataframe"
   ]
  },
  {
   "cell_type": "code",
   "execution_count": 5,
   "id": "9412f03d-3035-4348-92cb-fd86b5cc2533",
   "metadata": {
    "tags": []
   },
   "outputs": [
    {
     "data": {
      "text/plain": [
       "Fully Paid     32950\n",
       "Charged Off     5627\n",
       "Current         1140\n",
       "Name: loan_status, dtype: int64"
      ]
     },
     "execution_count": 5,
     "metadata": {},
     "output_type": "execute_result"
    }
   ],
   "source": [
    "# target variables of interest\n",
    "loan_df.loan_status.value_counts()"
   ]
  },
  {
   "cell_type": "code",
   "execution_count": 6,
   "id": "22b87d7a-772f-49de-adb0-d2de5467dce0",
   "metadata": {},
   "outputs": [
    {
     "data": {
      "text/plain": [
       "Fully Paid     32950\n",
       "Charged Off     5627\n",
       "Name: loan_status, dtype: int64"
      ]
     },
     "execution_count": 6,
     "metadata": {},
     "output_type": "execute_result"
    }
   ],
   "source": [
    "loan_df = loan_df[loan_df.loan_status !='Current']\n",
    "loan_df.loan_status.value_counts()"
   ]
  },
  {
   "cell_type": "markdown",
   "id": "ba575ecc-be02-46a6-ba77-53a8393d3c2e",
   "metadata": {},
   "source": [
    "## 2.) Data Handling & Cleaning\n",
    " - data cleaning: missing vaslues, tratment, check high % of missing values, drop rows, clumns, impute (try to explain in documentation so the grader can understand)\n",
    " - outliers, treatment,\n",
    " - derived variables, transformations, % metrics?\\\n",
    " - data types"
   ]
  },
  {
   "cell_type": "code",
   "execution_count": 7,
   "id": "bb0925a2-3736-4cca-91b3-ba1aded2a4df",
   "metadata": {},
   "outputs": [
    {
     "name": "stdout",
     "output_type": "stream",
     "text": [
      "<class 'pandas.core.frame.DataFrame'>\n",
      "Int64Index: 38577 entries, 0 to 39716\n",
      "Data columns (total 101 columns):\n",
      " #    Column                          Non-Null Count  Dtype  \n",
      "---   ------                          --------------  -----  \n",
      " 0    id                              38577 non-null  int64  \n",
      " 1    member_id                       38577 non-null  int64  \n",
      " 2    loan_amnt                       38577 non-null  int64  \n",
      " 3    funded_amnt                     38577 non-null  int64  \n",
      " 4    funded_amnt_inv                 38577 non-null  float64\n",
      " 5    term                            38577 non-null  object \n",
      " 6    int_rate                        38577 non-null  object \n",
      " 7    installment                     38577 non-null  float64\n",
      " 8    grade                           38577 non-null  object \n",
      " 9    sub_grade                       38577 non-null  object \n",
      " 10   emp_title                       36191 non-null  object \n",
      " 11   emp_length                      37544 non-null  object \n",
      " 12   home_ownership                  38577 non-null  object \n",
      " 13   annual_inc                      38577 non-null  float64\n",
      " 14   verification_status             38577 non-null  object \n",
      " 15   issue_d                         38577 non-null  object \n",
      " 16   loan_status                     38577 non-null  object \n",
      " 17   url                             38577 non-null  object \n",
      " 18   desc                            26050 non-null  object \n",
      " 19   purpose                         38577 non-null  object \n",
      " 20   title                           38566 non-null  object \n",
      " 21   zip_code                        38577 non-null  object \n",
      " 22   addr_state                      38577 non-null  object \n",
      " 23   dti                             38577 non-null  float64\n",
      " 24   delinq_2yrs                     38577 non-null  int64  \n",
      " 25   earliest_cr_line                38577 non-null  object \n",
      " 26   inq_last_6mths                  38577 non-null  int64  \n",
      " 27   mths_since_last_delinq          13672 non-null  float64\n",
      " 28   mths_since_last_record          2740 non-null   float64\n",
      " 29   open_acc                        38577 non-null  int64  \n",
      " 30   pub_rec                         38577 non-null  int64  \n",
      " 31   revol_bal                       38577 non-null  int64  \n",
      " 32   revol_util                      38527 non-null  object \n",
      " 33   total_acc                       38577 non-null  int64  \n",
      " 34   initial_list_status             38577 non-null  object \n",
      " 35   recoveries                      38577 non-null  float64\n",
      " 36   collection_recovery_fee         38577 non-null  float64\n",
      " 37   next_pymnt_d                    0 non-null      object \n",
      " 38   last_credit_pull_d              38575 non-null  object \n",
      " 39   collections_12_mths_ex_med      38521 non-null  float64\n",
      " 40   mths_since_last_major_derog     0 non-null      float64\n",
      " 41   policy_code                     38577 non-null  int64  \n",
      " 42   application_type                38577 non-null  object \n",
      " 43   annual_inc_joint                0 non-null      float64\n",
      " 44   dti_joint                       0 non-null      float64\n",
      " 45   verification_status_joint       0 non-null      float64\n",
      " 46   acc_now_delinq                  38577 non-null  int64  \n",
      " 47   tot_coll_amt                    0 non-null      float64\n",
      " 48   tot_cur_bal                     0 non-null      float64\n",
      " 49   open_acc_6m                     0 non-null      float64\n",
      " 50   open_il_6m                      0 non-null      float64\n",
      " 51   open_il_12m                     0 non-null      float64\n",
      " 52   open_il_24m                     0 non-null      float64\n",
      " 53   mths_since_rcnt_il              0 non-null      float64\n",
      " 54   total_bal_il                    0 non-null      float64\n",
      " 55   il_util                         0 non-null      float64\n",
      " 56   open_rv_12m                     0 non-null      float64\n",
      " 57   open_rv_24m                     0 non-null      float64\n",
      " 58   max_bal_bc                      0 non-null      float64\n",
      " 59   all_util                        0 non-null      float64\n",
      " 60   total_rev_hi_lim                0 non-null      float64\n",
      " 61   inq_fi                          0 non-null      float64\n",
      " 62   total_cu_tl                     0 non-null      float64\n",
      " 63   inq_last_12m                    0 non-null      float64\n",
      " 64   acc_open_past_24mths            0 non-null      float64\n",
      " 65   avg_cur_bal                     0 non-null      float64\n",
      " 66   bc_open_to_buy                  0 non-null      float64\n",
      " 67   bc_util                         0 non-null      float64\n",
      " 68   chargeoff_within_12_mths        38521 non-null  float64\n",
      " 69   delinq_amnt                     38577 non-null  int64  \n",
      " 70   mo_sin_old_il_acct              0 non-null      float64\n",
      " 71   mo_sin_old_rev_tl_op            0 non-null      float64\n",
      " 72   mo_sin_rcnt_rev_tl_op           0 non-null      float64\n",
      " 73   mo_sin_rcnt_tl                  0 non-null      float64\n",
      " 74   mort_acc                        0 non-null      float64\n",
      " 75   mths_since_recent_bc            0 non-null      float64\n",
      " 76   mths_since_recent_bc_dlq        0 non-null      float64\n",
      " 77   mths_since_recent_inq           0 non-null      float64\n",
      " 78   mths_since_recent_revol_delinq  0 non-null      float64\n",
      " 79   num_accts_ever_120_pd           0 non-null      float64\n",
      " 80   num_actv_bc_tl                  0 non-null      float64\n",
      " 81   num_actv_rev_tl                 0 non-null      float64\n",
      " 82   num_bc_sats                     0 non-null      float64\n",
      " 83   num_bc_tl                       0 non-null      float64\n",
      " 84   num_il_tl                       0 non-null      float64\n",
      " 85   num_op_rev_tl                   0 non-null      float64\n",
      " 86   num_rev_accts                   0 non-null      float64\n",
      " 87   num_rev_tl_bal_gt_0             0 non-null      float64\n",
      " 88   num_sats                        0 non-null      float64\n",
      " 89   num_tl_120dpd_2m                0 non-null      float64\n",
      " 90   num_tl_30dpd                    0 non-null      float64\n",
      " 91   num_tl_90g_dpd_24m              0 non-null      float64\n",
      " 92   num_tl_op_past_12m              0 non-null      float64\n",
      " 93   pct_tl_nvr_dlq                  0 non-null      float64\n",
      " 94   percent_bc_gt_75                0 non-null      float64\n",
      " 95   pub_rec_bankruptcies            37880 non-null  float64\n",
      " 96   tax_liens                       38538 non-null  float64\n",
      " 97   tot_hi_cred_lim                 0 non-null      float64\n",
      " 98   total_bal_ex_mort               0 non-null      float64\n",
      " 99   total_bc_limit                  0 non-null      float64\n",
      " 100  total_il_high_credit_limit      0 non-null      float64\n",
      "dtypes: float64(66), int64(13), object(22)\n",
      "memory usage: 30.0+ MB\n"
     ]
    }
   ],
   "source": [
    "#check columns and null counts\n",
    "loan_df.info(verbose = True, show_counts = True)"
   ]
  },
  {
   "cell_type": "markdown",
   "id": "2ab5d246-fecc-4d24-b55d-22b1abbe85c1",
   "metadata": {},
   "source": [
    "**Finding:** There are several columns which have 0 non-null values"
   ]
  },
  {
   "cell_type": "code",
   "execution_count": 8,
   "id": "6ff2f29b-d75e-469f-9455-61183cb9cb8b",
   "metadata": {},
   "outputs": [
    {
     "name": "stdout",
     "output_type": "stream",
     "text": [
      "<class 'pandas.core.frame.DataFrame'>\n",
      "Int64Index: 38577 entries, 0 to 39716\n",
      "Data columns (total 46 columns):\n",
      " #   Column                      Non-Null Count  Dtype  \n",
      "---  ------                      --------------  -----  \n",
      " 0   id                          38577 non-null  int64  \n",
      " 1   member_id                   38577 non-null  int64  \n",
      " 2   loan_amnt                   38577 non-null  int64  \n",
      " 3   funded_amnt                 38577 non-null  int64  \n",
      " 4   funded_amnt_inv             38577 non-null  float64\n",
      " 5   term                        38577 non-null  object \n",
      " 6   int_rate                    38577 non-null  object \n",
      " 7   installment                 38577 non-null  float64\n",
      " 8   grade                       38577 non-null  object \n",
      " 9   sub_grade                   38577 non-null  object \n",
      " 10  emp_title                   36191 non-null  object \n",
      " 11  emp_length                  37544 non-null  object \n",
      " 12  home_ownership              38577 non-null  object \n",
      " 13  annual_inc                  38577 non-null  float64\n",
      " 14  verification_status         38577 non-null  object \n",
      " 15  issue_d                     38577 non-null  object \n",
      " 16  loan_status                 38577 non-null  object \n",
      " 17  url                         38577 non-null  object \n",
      " 18  desc                        26050 non-null  object \n",
      " 19  purpose                     38577 non-null  object \n",
      " 20  title                       38566 non-null  object \n",
      " 21  zip_code                    38577 non-null  object \n",
      " 22  addr_state                  38577 non-null  object \n",
      " 23  dti                         38577 non-null  float64\n",
      " 24  delinq_2yrs                 38577 non-null  int64  \n",
      " 25  earliest_cr_line            38577 non-null  object \n",
      " 26  inq_last_6mths              38577 non-null  int64  \n",
      " 27  mths_since_last_delinq      13672 non-null  float64\n",
      " 28  mths_since_last_record      2740 non-null   float64\n",
      " 29  open_acc                    38577 non-null  int64  \n",
      " 30  pub_rec                     38577 non-null  int64  \n",
      " 31  revol_bal                   38577 non-null  int64  \n",
      " 32  revol_util                  38527 non-null  object \n",
      " 33  total_acc                   38577 non-null  int64  \n",
      " 34  initial_list_status         38577 non-null  object \n",
      " 35  recoveries                  38577 non-null  float64\n",
      " 36  collection_recovery_fee     38577 non-null  float64\n",
      " 37  last_credit_pull_d          38575 non-null  object \n",
      " 38  collections_12_mths_ex_med  38521 non-null  float64\n",
      " 39  policy_code                 38577 non-null  int64  \n",
      " 40  application_type            38577 non-null  object \n",
      " 41  acc_now_delinq              38577 non-null  int64  \n",
      " 42  chargeoff_within_12_mths    38521 non-null  float64\n",
      " 43  delinq_amnt                 38577 non-null  int64  \n",
      " 44  pub_rec_bankruptcies        37880 non-null  float64\n",
      " 45  tax_liens                   38538 non-null  float64\n",
      "dtypes: float64(12), int64(13), object(21)\n",
      "memory usage: 13.8+ MB\n"
     ]
    }
   ],
   "source": [
    "#Removing columns with 0 non null values\n",
    "loan_df.dropna(axis = 1, how = 'all',inplace = True)\n",
    "\n",
    "#Removing rows with 0 non null values\n",
    "loan_df.dropna(axis = 0, how = 'all',inplace = True)\n",
    "\n",
    "#Checking after removing\n",
    "loan_df.info(verbose = True, show_counts = True)"
   ]
  },
  {
   "cell_type": "code",
   "execution_count": 9,
   "id": "6de6b035-03f1-438e-b07f-fed0548bbf3e",
   "metadata": {},
   "outputs": [
    {
     "data": {
      "text/html": [
       "<div>\n",
       "<style scoped>\n",
       "    .dataframe tbody tr th:only-of-type {\n",
       "        vertical-align: middle;\n",
       "    }\n",
       "\n",
       "    .dataframe tbody tr th {\n",
       "        vertical-align: top;\n",
       "    }\n",
       "\n",
       "    .dataframe thead th {\n",
       "        text-align: right;\n",
       "    }\n",
       "</style>\n",
       "<table border=\"1\" class=\"dataframe\">\n",
       "  <thead>\n",
       "    <tr style=\"text-align: right;\">\n",
       "      <th></th>\n",
       "      <th>0</th>\n",
       "    </tr>\n",
       "  </thead>\n",
       "  <tbody>\n",
       "    <tr>\n",
       "      <th>mths_since_last_record</th>\n",
       "      <td>92.90</td>\n",
       "    </tr>\n",
       "    <tr>\n",
       "      <th>mths_since_last_delinq</th>\n",
       "      <td>64.56</td>\n",
       "    </tr>\n",
       "    <tr>\n",
       "      <th>desc</th>\n",
       "      <td>32.47</td>\n",
       "    </tr>\n",
       "    <tr>\n",
       "      <th>emp_title</th>\n",
       "      <td>6.19</td>\n",
       "    </tr>\n",
       "    <tr>\n",
       "      <th>emp_length</th>\n",
       "      <td>2.68</td>\n",
       "    </tr>\n",
       "    <tr>\n",
       "      <th>pub_rec_bankruptcies</th>\n",
       "      <td>1.81</td>\n",
       "    </tr>\n",
       "    <tr>\n",
       "      <th>chargeoff_within_12_mths</th>\n",
       "      <td>0.15</td>\n",
       "    </tr>\n",
       "    <tr>\n",
       "      <th>collections_12_mths_ex_med</th>\n",
       "      <td>0.15</td>\n",
       "    </tr>\n",
       "    <tr>\n",
       "      <th>revol_util</th>\n",
       "      <td>0.13</td>\n",
       "    </tr>\n",
       "    <tr>\n",
       "      <th>tax_liens</th>\n",
       "      <td>0.10</td>\n",
       "    </tr>\n",
       "    <tr>\n",
       "      <th>title</th>\n",
       "      <td>0.03</td>\n",
       "    </tr>\n",
       "    <tr>\n",
       "      <th>last_credit_pull_d</th>\n",
       "      <td>0.01</td>\n",
       "    </tr>\n",
       "    <tr>\n",
       "      <th>open_acc</th>\n",
       "      <td>0.00</td>\n",
       "    </tr>\n",
       "    <tr>\n",
       "      <th>pub_rec</th>\n",
       "      <td>0.00</td>\n",
       "    </tr>\n",
       "    <tr>\n",
       "      <th>revol_bal</th>\n",
       "      <td>0.00</td>\n",
       "    </tr>\n",
       "    <tr>\n",
       "      <th>collection_recovery_fee</th>\n",
       "      <td>0.00</td>\n",
       "    </tr>\n",
       "    <tr>\n",
       "      <th>total_acc</th>\n",
       "      <td>0.00</td>\n",
       "    </tr>\n",
       "    <tr>\n",
       "      <th>initial_list_status</th>\n",
       "      <td>0.00</td>\n",
       "    </tr>\n",
       "    <tr>\n",
       "      <th>recoveries</th>\n",
       "      <td>0.00</td>\n",
       "    </tr>\n",
       "    <tr>\n",
       "      <th>earliest_cr_line</th>\n",
       "      <td>0.00</td>\n",
       "    </tr>\n",
       "    <tr>\n",
       "      <th>policy_code</th>\n",
       "      <td>0.00</td>\n",
       "    </tr>\n",
       "    <tr>\n",
       "      <th>application_type</th>\n",
       "      <td>0.00</td>\n",
       "    </tr>\n",
       "    <tr>\n",
       "      <th>acc_now_delinq</th>\n",
       "      <td>0.00</td>\n",
       "    </tr>\n",
       "    <tr>\n",
       "      <th>delinq_amnt</th>\n",
       "      <td>0.00</td>\n",
       "    </tr>\n",
       "    <tr>\n",
       "      <th>inq_last_6mths</th>\n",
       "      <td>0.00</td>\n",
       "    </tr>\n",
       "    <tr>\n",
       "      <th>id</th>\n",
       "      <td>0.00</td>\n",
       "    </tr>\n",
       "    <tr>\n",
       "      <th>delinq_2yrs</th>\n",
       "      <td>0.00</td>\n",
       "    </tr>\n",
       "    <tr>\n",
       "      <th>member_id</th>\n",
       "      <td>0.00</td>\n",
       "    </tr>\n",
       "    <tr>\n",
       "      <th>loan_amnt</th>\n",
       "      <td>0.00</td>\n",
       "    </tr>\n",
       "    <tr>\n",
       "      <th>funded_amnt</th>\n",
       "      <td>0.00</td>\n",
       "    </tr>\n",
       "    <tr>\n",
       "      <th>funded_amnt_inv</th>\n",
       "      <td>0.00</td>\n",
       "    </tr>\n",
       "    <tr>\n",
       "      <th>term</th>\n",
       "      <td>0.00</td>\n",
       "    </tr>\n",
       "    <tr>\n",
       "      <th>int_rate</th>\n",
       "      <td>0.00</td>\n",
       "    </tr>\n",
       "    <tr>\n",
       "      <th>installment</th>\n",
       "      <td>0.00</td>\n",
       "    </tr>\n",
       "    <tr>\n",
       "      <th>grade</th>\n",
       "      <td>0.00</td>\n",
       "    </tr>\n",
       "    <tr>\n",
       "      <th>sub_grade</th>\n",
       "      <td>0.00</td>\n",
       "    </tr>\n",
       "    <tr>\n",
       "      <th>home_ownership</th>\n",
       "      <td>0.00</td>\n",
       "    </tr>\n",
       "    <tr>\n",
       "      <th>annual_inc</th>\n",
       "      <td>0.00</td>\n",
       "    </tr>\n",
       "    <tr>\n",
       "      <th>verification_status</th>\n",
       "      <td>0.00</td>\n",
       "    </tr>\n",
       "    <tr>\n",
       "      <th>issue_d</th>\n",
       "      <td>0.00</td>\n",
       "    </tr>\n",
       "    <tr>\n",
       "      <th>loan_status</th>\n",
       "      <td>0.00</td>\n",
       "    </tr>\n",
       "    <tr>\n",
       "      <th>url</th>\n",
       "      <td>0.00</td>\n",
       "    </tr>\n",
       "    <tr>\n",
       "      <th>purpose</th>\n",
       "      <td>0.00</td>\n",
       "    </tr>\n",
       "    <tr>\n",
       "      <th>zip_code</th>\n",
       "      <td>0.00</td>\n",
       "    </tr>\n",
       "    <tr>\n",
       "      <th>addr_state</th>\n",
       "      <td>0.00</td>\n",
       "    </tr>\n",
       "    <tr>\n",
       "      <th>dti</th>\n",
       "      <td>0.00</td>\n",
       "    </tr>\n",
       "  </tbody>\n",
       "</table>\n",
       "</div>"
      ],
      "text/plain": [
       "                                0\n",
       "mths_since_last_record      92.90\n",
       "mths_since_last_delinq      64.56\n",
       "desc                        32.47\n",
       "emp_title                    6.19\n",
       "emp_length                   2.68\n",
       "pub_rec_bankruptcies         1.81\n",
       "chargeoff_within_12_mths     0.15\n",
       "collections_12_mths_ex_med   0.15\n",
       "revol_util                   0.13\n",
       "tax_liens                    0.10\n",
       "title                        0.03\n",
       "last_credit_pull_d           0.01\n",
       "open_acc                     0.00\n",
       "pub_rec                      0.00\n",
       "revol_bal                    0.00\n",
       "collection_recovery_fee      0.00\n",
       "total_acc                    0.00\n",
       "initial_list_status          0.00\n",
       "recoveries                   0.00\n",
       "earliest_cr_line             0.00\n",
       "policy_code                  0.00\n",
       "application_type             0.00\n",
       "acc_now_delinq               0.00\n",
       "delinq_amnt                  0.00\n",
       "inq_last_6mths               0.00\n",
       "id                           0.00\n",
       "delinq_2yrs                  0.00\n",
       "member_id                    0.00\n",
       "loan_amnt                    0.00\n",
       "funded_amnt                  0.00\n",
       "funded_amnt_inv              0.00\n",
       "term                         0.00\n",
       "int_rate                     0.00\n",
       "installment                  0.00\n",
       "grade                        0.00\n",
       "sub_grade                    0.00\n",
       "home_ownership               0.00\n",
       "annual_inc                   0.00\n",
       "verification_status          0.00\n",
       "issue_d                      0.00\n",
       "loan_status                  0.00\n",
       "url                          0.00\n",
       "purpose                      0.00\n",
       "zip_code                     0.00\n",
       "addr_state                   0.00\n",
       "dti                          0.00"
      ]
     },
     "execution_count": 9,
     "metadata": {},
     "output_type": "execute_result"
    }
   ],
   "source": [
    "# % of missing values values\n",
    "pd.DataFrame(loan_df.isna().mean().round(4)*100).sort_values(by=0, ascending = False)"
   ]
  },
  {
   "cell_type": "markdown",
   "id": "53bc05e6-e56f-4d57-9026-0c96af41406f",
   "metadata": {},
   "source": [
    "Finding: next_pymnt_d, mths_since_last_record, mths_since_last_delinq colums have high % of missing values, hence removing them"
   ]
  },
  {
   "cell_type": "code",
   "execution_count": 10,
   "id": "ff8e82ea-05ee-478b-a344-5f595aad1a87",
   "metadata": {},
   "outputs": [],
   "source": [
    "#Removing the above three columns\n",
    "loan_df.drop(labels =['mths_since_last_record', 'mths_since_last_delinq'], axis=1,inplace=True)"
   ]
  },
  {
   "cell_type": "code",
   "execution_count": 11,
   "id": "d56bba81-99ea-4d7c-a45d-570fb293efca",
   "metadata": {},
   "outputs": [
    {
     "name": "stdout",
     "output_type": "stream",
     "text": [
      "<class 'pandas.core.frame.DataFrame'>\n",
      "Int64Index: 38577 entries, 0 to 39716\n",
      "Data columns (total 44 columns):\n",
      " #   Column                      Non-Null Count  Dtype  \n",
      "---  ------                      --------------  -----  \n",
      " 0   id                          38577 non-null  int64  \n",
      " 1   member_id                   38577 non-null  int64  \n",
      " 2   loan_amnt                   38577 non-null  int64  \n",
      " 3   funded_amnt                 38577 non-null  int64  \n",
      " 4   funded_amnt_inv             38577 non-null  float64\n",
      " 5   term                        38577 non-null  object \n",
      " 6   int_rate                    38577 non-null  object \n",
      " 7   installment                 38577 non-null  float64\n",
      " 8   grade                       38577 non-null  object \n",
      " 9   sub_grade                   38577 non-null  object \n",
      " 10  emp_title                   36191 non-null  object \n",
      " 11  emp_length                  37544 non-null  object \n",
      " 12  home_ownership              38577 non-null  object \n",
      " 13  annual_inc                  38577 non-null  float64\n",
      " 14  verification_status         38577 non-null  object \n",
      " 15  issue_d                     38577 non-null  object \n",
      " 16  loan_status                 38577 non-null  object \n",
      " 17  url                         38577 non-null  object \n",
      " 18  desc                        26050 non-null  object \n",
      " 19  purpose                     38577 non-null  object \n",
      " 20  title                       38566 non-null  object \n",
      " 21  zip_code                    38577 non-null  object \n",
      " 22  addr_state                  38577 non-null  object \n",
      " 23  dti                         38577 non-null  float64\n",
      " 24  delinq_2yrs                 38577 non-null  int64  \n",
      " 25  earliest_cr_line            38577 non-null  object \n",
      " 26  inq_last_6mths              38577 non-null  int64  \n",
      " 27  open_acc                    38577 non-null  int64  \n",
      " 28  pub_rec                     38577 non-null  int64  \n",
      " 29  revol_bal                   38577 non-null  int64  \n",
      " 30  revol_util                  38527 non-null  object \n",
      " 31  total_acc                   38577 non-null  int64  \n",
      " 32  initial_list_status         38577 non-null  object \n",
      " 33  recoveries                  38577 non-null  float64\n",
      " 34  collection_recovery_fee     38577 non-null  float64\n",
      " 35  last_credit_pull_d          38575 non-null  object \n",
      " 36  collections_12_mths_ex_med  38521 non-null  float64\n",
      " 37  policy_code                 38577 non-null  int64  \n",
      " 38  application_type            38577 non-null  object \n",
      " 39  acc_now_delinq              38577 non-null  int64  \n",
      " 40  chargeoff_within_12_mths    38521 non-null  float64\n",
      " 41  delinq_amnt                 38577 non-null  int64  \n",
      " 42  pub_rec_bankruptcies        37880 non-null  float64\n",
      " 43  tax_liens                   38538 non-null  float64\n",
      "dtypes: float64(10), int64(13), object(21)\n",
      "memory usage: 13.2+ MB\n"
     ]
    }
   ],
   "source": [
    "#Checking after removing\n",
    "loan_df.info(verbose = True, show_counts = True)"
   ]
  },
  {
   "cell_type": "code",
   "execution_count": 12,
   "id": "22709f2e-2b66-4f78-8b7b-e275f2d2b180",
   "metadata": {},
   "outputs": [
    {
     "data": {
      "text/html": [
       "<div>\n",
       "<style scoped>\n",
       "    .dataframe tbody tr th:only-of-type {\n",
       "        vertical-align: middle;\n",
       "    }\n",
       "\n",
       "    .dataframe tbody tr th {\n",
       "        vertical-align: top;\n",
       "    }\n",
       "\n",
       "    .dataframe thead th {\n",
       "        text-align: right;\n",
       "    }\n",
       "</style>\n",
       "<table border=\"1\" class=\"dataframe\">\n",
       "  <thead>\n",
       "    <tr style=\"text-align: right;\">\n",
       "      <th></th>\n",
       "      <th>0</th>\n",
       "    </tr>\n",
       "  </thead>\n",
       "  <tbody>\n",
       "    <tr>\n",
       "      <th>desc</th>\n",
       "      <td>32.47</td>\n",
       "    </tr>\n",
       "    <tr>\n",
       "      <th>emp_title</th>\n",
       "      <td>6.19</td>\n",
       "    </tr>\n",
       "    <tr>\n",
       "      <th>emp_length</th>\n",
       "      <td>2.68</td>\n",
       "    </tr>\n",
       "    <tr>\n",
       "      <th>pub_rec_bankruptcies</th>\n",
       "      <td>1.81</td>\n",
       "    </tr>\n",
       "    <tr>\n",
       "      <th>chargeoff_within_12_mths</th>\n",
       "      <td>0.15</td>\n",
       "    </tr>\n",
       "    <tr>\n",
       "      <th>collections_12_mths_ex_med</th>\n",
       "      <td>0.15</td>\n",
       "    </tr>\n",
       "    <tr>\n",
       "      <th>revol_util</th>\n",
       "      <td>0.13</td>\n",
       "    </tr>\n",
       "    <tr>\n",
       "      <th>tax_liens</th>\n",
       "      <td>0.10</td>\n",
       "    </tr>\n",
       "    <tr>\n",
       "      <th>title</th>\n",
       "      <td>0.03</td>\n",
       "    </tr>\n",
       "    <tr>\n",
       "      <th>last_credit_pull_d</th>\n",
       "      <td>0.01</td>\n",
       "    </tr>\n",
       "    <tr>\n",
       "      <th>total_acc</th>\n",
       "      <td>0.00</td>\n",
       "    </tr>\n",
       "    <tr>\n",
       "      <th>inq_last_6mths</th>\n",
       "      <td>0.00</td>\n",
       "    </tr>\n",
       "    <tr>\n",
       "      <th>open_acc</th>\n",
       "      <td>0.00</td>\n",
       "    </tr>\n",
       "    <tr>\n",
       "      <th>pub_rec</th>\n",
       "      <td>0.00</td>\n",
       "    </tr>\n",
       "    <tr>\n",
       "      <th>revol_bal</th>\n",
       "      <td>0.00</td>\n",
       "    </tr>\n",
       "    <tr>\n",
       "      <th>collection_recovery_fee</th>\n",
       "      <td>0.00</td>\n",
       "    </tr>\n",
       "    <tr>\n",
       "      <th>initial_list_status</th>\n",
       "      <td>0.00</td>\n",
       "    </tr>\n",
       "    <tr>\n",
       "      <th>recoveries</th>\n",
       "      <td>0.00</td>\n",
       "    </tr>\n",
       "    <tr>\n",
       "      <th>delinq_2yrs</th>\n",
       "      <td>0.00</td>\n",
       "    </tr>\n",
       "    <tr>\n",
       "      <th>policy_code</th>\n",
       "      <td>0.00</td>\n",
       "    </tr>\n",
       "    <tr>\n",
       "      <th>application_type</th>\n",
       "      <td>0.00</td>\n",
       "    </tr>\n",
       "    <tr>\n",
       "      <th>acc_now_delinq</th>\n",
       "      <td>0.00</td>\n",
       "    </tr>\n",
       "    <tr>\n",
       "      <th>delinq_amnt</th>\n",
       "      <td>0.00</td>\n",
       "    </tr>\n",
       "    <tr>\n",
       "      <th>earliest_cr_line</th>\n",
       "      <td>0.00</td>\n",
       "    </tr>\n",
       "    <tr>\n",
       "      <th>id</th>\n",
       "      <td>0.00</td>\n",
       "    </tr>\n",
       "    <tr>\n",
       "      <th>dti</th>\n",
       "      <td>0.00</td>\n",
       "    </tr>\n",
       "    <tr>\n",
       "      <th>sub_grade</th>\n",
       "      <td>0.00</td>\n",
       "    </tr>\n",
       "    <tr>\n",
       "      <th>loan_amnt</th>\n",
       "      <td>0.00</td>\n",
       "    </tr>\n",
       "    <tr>\n",
       "      <th>funded_amnt</th>\n",
       "      <td>0.00</td>\n",
       "    </tr>\n",
       "    <tr>\n",
       "      <th>funded_amnt_inv</th>\n",
       "      <td>0.00</td>\n",
       "    </tr>\n",
       "    <tr>\n",
       "      <th>term</th>\n",
       "      <td>0.00</td>\n",
       "    </tr>\n",
       "    <tr>\n",
       "      <th>int_rate</th>\n",
       "      <td>0.00</td>\n",
       "    </tr>\n",
       "    <tr>\n",
       "      <th>installment</th>\n",
       "      <td>0.00</td>\n",
       "    </tr>\n",
       "    <tr>\n",
       "      <th>grade</th>\n",
       "      <td>0.00</td>\n",
       "    </tr>\n",
       "    <tr>\n",
       "      <th>home_ownership</th>\n",
       "      <td>0.00</td>\n",
       "    </tr>\n",
       "    <tr>\n",
       "      <th>member_id</th>\n",
       "      <td>0.00</td>\n",
       "    </tr>\n",
       "    <tr>\n",
       "      <th>annual_inc</th>\n",
       "      <td>0.00</td>\n",
       "    </tr>\n",
       "    <tr>\n",
       "      <th>verification_status</th>\n",
       "      <td>0.00</td>\n",
       "    </tr>\n",
       "    <tr>\n",
       "      <th>issue_d</th>\n",
       "      <td>0.00</td>\n",
       "    </tr>\n",
       "    <tr>\n",
       "      <th>loan_status</th>\n",
       "      <td>0.00</td>\n",
       "    </tr>\n",
       "    <tr>\n",
       "      <th>url</th>\n",
       "      <td>0.00</td>\n",
       "    </tr>\n",
       "    <tr>\n",
       "      <th>purpose</th>\n",
       "      <td>0.00</td>\n",
       "    </tr>\n",
       "    <tr>\n",
       "      <th>zip_code</th>\n",
       "      <td>0.00</td>\n",
       "    </tr>\n",
       "    <tr>\n",
       "      <th>addr_state</th>\n",
       "      <td>0.00</td>\n",
       "    </tr>\n",
       "  </tbody>\n",
       "</table>\n",
       "</div>"
      ],
      "text/plain": [
       "                                0\n",
       "desc                        32.47\n",
       "emp_title                    6.19\n",
       "emp_length                   2.68\n",
       "pub_rec_bankruptcies         1.81\n",
       "chargeoff_within_12_mths     0.15\n",
       "collections_12_mths_ex_med   0.15\n",
       "revol_util                   0.13\n",
       "tax_liens                    0.10\n",
       "title                        0.03\n",
       "last_credit_pull_d           0.01\n",
       "total_acc                    0.00\n",
       "inq_last_6mths               0.00\n",
       "open_acc                     0.00\n",
       "pub_rec                      0.00\n",
       "revol_bal                    0.00\n",
       "collection_recovery_fee      0.00\n",
       "initial_list_status          0.00\n",
       "recoveries                   0.00\n",
       "delinq_2yrs                  0.00\n",
       "policy_code                  0.00\n",
       "application_type             0.00\n",
       "acc_now_delinq               0.00\n",
       "delinq_amnt                  0.00\n",
       "earliest_cr_line             0.00\n",
       "id                           0.00\n",
       "dti                          0.00\n",
       "sub_grade                    0.00\n",
       "loan_amnt                    0.00\n",
       "funded_amnt                  0.00\n",
       "funded_amnt_inv              0.00\n",
       "term                         0.00\n",
       "int_rate                     0.00\n",
       "installment                  0.00\n",
       "grade                        0.00\n",
       "home_ownership               0.00\n",
       "member_id                    0.00\n",
       "annual_inc                   0.00\n",
       "verification_status          0.00\n",
       "issue_d                      0.00\n",
       "loan_status                  0.00\n",
       "url                          0.00\n",
       "purpose                      0.00\n",
       "zip_code                     0.00\n",
       "addr_state                   0.00"
      ]
     },
     "execution_count": 12,
     "metadata": {},
     "output_type": "execute_result"
    }
   ],
   "source": [
    "# % of missing values values\n",
    "pd.DataFrame(loan_df.isna().mean().round(4)*100).sort_values(by=0, ascending = False)"
   ]
  },
  {
   "cell_type": "code",
   "execution_count": null,
   "id": "c75f3ea9-e267-41d6-9c02-d8c3e585bd86",
   "metadata": {},
   "outputs": [],
   "source": []
  },
  {
   "cell_type": "markdown",
   "id": "9c243974-b041-4b08-9ce6-157c9e006104",
   "metadata": {},
   "source": [
    "### Missing Data"
   ]
  },
  {
   "cell_type": "markdown",
   "id": "ec33d601-87e8-4960-b042-843dd743b43b",
   "metadata": {},
   "source": [
    "Missing data is in these columns:\n",
    " - desc\n",
    " - emp_title \n",
    " - emp_length\n",
    " - pub_rec_bankruptcies \n",
    " - collections_12_mths_ex_med \n",
    " - chargeoff_within_12_mths \n",
    " - revol_util \n",
    " - tax_liens \n",
    " - title \n",
    " - last_credit_pull_d \n"
   ]
  },
  {
   "cell_type": "code",
   "execution_count": 17,
   "id": "4cc47e17-7ae9-4104-b979-b45f9d4f2fc3",
   "metadata": {},
   "outputs": [
    {
     "data": {
      "text/plain": [
       "10+ years    8488\n",
       "< 1 year     4508\n",
       "2 years      4291\n",
       "3 years      4012\n",
       "4 years      3342\n",
       "5 years      3194\n",
       "1 year       3169\n",
       "6 years      2168\n",
       "7 years      1711\n",
       "8 years      1435\n",
       "9 years      1226\n",
       "Name: emp_length, dtype: int64"
      ]
     },
     "execution_count": 17,
     "metadata": {},
     "output_type": "execute_result"
    }
   ],
   "source": [
    "#\n",
    "loan_df.emp_length.value_counts()"
   ]
  },
  {
   "cell_type": "code",
   "execution_count": 18,
   "id": "adefa1c3-ac71-4a96-bfca-daa0ec27b052",
   "metadata": {},
   "outputs": [
    {
     "data": {
      "text/plain": [
       "1033"
      ]
     },
     "execution_count": 18,
     "metadata": {},
     "output_type": "execute_result"
    }
   ],
   "source": [
    "loan_df.emp_length.isna().sum()"
   ]
  },
  {
   "cell_type": "code",
   "execution_count": 20,
   "id": "fde4f6af-d596-400a-8034-c86acc310743",
   "metadata": {},
   "outputs": [
    {
     "data": {
      "text/plain": [
       "0"
      ]
     },
     "execution_count": 20,
     "metadata": {},
     "output_type": "execute_result"
    }
   ],
   "source": [
    "#Replace the nulls with the Mode\n",
    "loan_df['emp_length'] = loan_df['emp_length'].fillna(loan_df['emp_length'].mode()[0])\n",
    "\n",
    "#check\n",
    "loan_df.emp_length.isna().sum()"
   ]
  },
  {
   "cell_type": "code",
   "execution_count": 22,
   "id": "8d0dffe4-1542-4ee6-8376-38adbe988659",
   "metadata": {},
   "outputs": [
    {
     "data": {
      "text/plain": [
       "10+ years    9521\n",
       "< 1 year     4508\n",
       "2 years      4291\n",
       "3 years      4012\n",
       "4 years      3342\n",
       "5 years      3194\n",
       "1 year       3169\n",
       "6 years      2168\n",
       "7 years      1711\n",
       "8 years      1435\n",
       "9 years      1226\n",
       "Name: emp_length, dtype: int64"
      ]
     },
     "execution_count": 22,
     "metadata": {},
     "output_type": "execute_result"
    }
   ],
   "source": [
    "#check\n",
    "loan_df.emp_length.value_counts()"
   ]
  },
  {
   "cell_type": "code",
   "execution_count": 27,
   "id": "226bbd4c-e8ed-4518-89d6-cfa70e2e6eb3",
   "metadata": {},
   "outputs": [
    {
     "data": {
      "text/plain": [
       "0.0    36238\n",
       "1.0     1637\n",
       "2.0        5\n",
       "Name: pub_rec_bankruptcies, dtype: int64"
      ]
     },
     "execution_count": 27,
     "metadata": {},
     "output_type": "execute_result"
    }
   ],
   "source": [
    "#\n",
    "loan_df.pub_rec_bankruptcies.value_counts()"
   ]
  },
  {
   "cell_type": "code",
   "execution_count": 26,
   "id": "0e61fb99-d1f4-4e73-8da2-bb1e2b4f7dda",
   "metadata": {},
   "outputs": [
    {
     "data": {
      "text/plain": [
       "697"
      ]
     },
     "execution_count": 26,
     "metadata": {},
     "output_type": "execute_result"
    }
   ],
   "source": [
    "loan_df.pub_rec_bankruptcies.isna().sum()"
   ]
  },
  {
   "cell_type": "code",
   "execution_count": 28,
   "id": "cc2036d3-ecd5-45c6-b185-5b2ef9d00c9c",
   "metadata": {},
   "outputs": [
    {
     "data": {
      "text/plain": [
       "0"
      ]
     },
     "execution_count": 28,
     "metadata": {},
     "output_type": "execute_result"
    }
   ],
   "source": [
    "#Replace the nulls with the Mode\n",
    "loan_df['pub_rec_bankruptcies'] = loan_df['pub_rec_bankruptcies'].fillna(loan_df['pub_rec_bankruptcies'].mode()[0])\n",
    "\n",
    "#check\n",
    "loan_df.pub_rec_bankruptcies.isna().sum()"
   ]
  },
  {
   "cell_type": "code",
   "execution_count": 29,
   "id": "17d00dda-2f30-4a18-a45a-36998397b318",
   "metadata": {},
   "outputs": [
    {
     "data": {
      "text/plain": [
       "0.0    36935\n",
       "1.0     1637\n",
       "2.0        5\n",
       "Name: pub_rec_bankruptcies, dtype: int64"
      ]
     },
     "execution_count": 29,
     "metadata": {},
     "output_type": "execute_result"
    }
   ],
   "source": [
    "#\n",
    "loan_df.pub_rec_bankruptcies.value_counts()"
   ]
  },
  {
   "cell_type": "markdown",
   "id": "df4f0fc6-27a6-423b-aabd-b9f2329b0c31",
   "metadata": {},
   "source": [
    "# 3.) Exploratory Analysis & Data Visualisation \n",
    "- univariates,\n",
    "- bivariates, \n",
    "- derived variables, \n",
    "- % metric,\n",
    "- types of visuals"
   ]
  },
  {
   "cell_type": "code",
   "execution_count": 37,
   "id": "b4701c9c-0930-43a2-b390-d11729d11623",
   "metadata": {},
   "outputs": [
    {
     "data": {
      "text/plain": [
       "0    32950\n",
       "1     5627\n",
       "Name: Default_flag, dtype: int64"
      ]
     },
     "execution_count": 37,
     "metadata": {},
     "output_type": "execute_result"
    }
   ],
   "source": [
    "# Target variable\n",
    "loan_df['Default_flag'] = loan_df.loan_status.apply(lambda x : 1 if x == 'Charged Off' else 0)\n",
    "#check\n",
    "loan_df.Default_flag.value_counts()"
   ]
  },
  {
   "cell_type": "code",
   "execution_count": 38,
   "id": "674f35d6-785e-463c-97e1-b69f590cc93d",
   "metadata": {},
   "outputs": [
    {
     "data": {
      "text/plain": [
       "No     32950\n",
       "Yes     5627\n",
       "Name: Default_YesNo, dtype: int64"
      ]
     },
     "execution_count": 38,
     "metadata": {},
     "output_type": "execute_result"
    }
   ],
   "source": [
    "# Target variable Yes/No\n",
    "loan_df['Default_YesNo'] = loan_df.loan_status.apply(lambda x : 'Yes' if x == 'Charged Off' else 'No')\n",
    "#check\n",
    "loan_df.Default_YesNo.value_counts()"
   ]
  },
  {
   "cell_type": "code",
   "execution_count": null,
   "id": "787d7560-9c3d-42f8-bbe3-dd39d41e9f04",
   "metadata": {},
   "outputs": [],
   "source": []
  },
  {
   "cell_type": "code",
   "execution_count": 42,
   "id": "fc2aaad6-0026-4d44-82ba-33ad098d64c5",
   "metadata": {},
   "outputs": [
    {
     "name": "stderr",
     "output_type": "stream",
     "text": [
      "C:\\Users\\Yukay\\anaconda3\\envs\\myEnv\\lib\\site-packages\\seaborn\\_decorators.py:36: FutureWarning: Pass the following variables as keyword args: x, y. From version 0.12, the only valid positional argument will be `data`, and passing other arguments without an explicit keyword will result in an error or misinterpretation.\n",
      "  warnings.warn(\n"
     ]
    },
    {
     "data": {
      "image/png": "[encoded data removed]",
      "text/plain": [
       "<Figure size 648x504 with 1 Axes>"
      ]
     },
     "metadata": {
      "needs_background": "light"
     },
     "output_type": "display_data"
    }
   ],
   "source": [
    "plt.figure(figsize=[9,7])\n",
    "sns.boxplot(loan_df['Default_flag'],loan_df['loan_amnt'])\n",
    "plt.show()"
   ]
  },
  {
   "cell_type": "code",
   "execution_count": 48,
   "id": "2add0727-916c-4957-9315-53e20cce53b2",
   "metadata": {},
   "outputs": [
    {
     "data": {
      "text/plain": [
       "emp_length\n",
       "1 year       14.39\n",
       "10+ years    16.37\n",
       "2 years      13.21\n",
       "3 years      13.83\n",
       "4 years      13.82\n",
       "5 years      14.34\n",
       "6 years      14.16\n",
       "7 years      15.37\n",
       "8 years      14.15\n",
       "9 years      12.89\n",
       "< 1 year     14.17\n",
       "Name: Default_flag, dtype: float64"
      ]
     },
     "execution_count": 48,
     "metadata": {},
     "output_type": "execute_result"
    }
   ],
   "source": [
    "#deafult rate\n",
    "loan_df.groupby('emp_length').Default_flag.mean().round(4)*100"
   ]
  },
  {
   "cell_type": "markdown",
   "id": "e34e03a7-6ed5-4407-a155-f45f088e7de9",
   "metadata": {},
   "source": [
    "## 4.) Findings/Results/Insights/Summary/Recommendations"
   ]
  },
  {
   "cell_type": "code",
   "execution_count": null,
   "id": "dee9ca1d-43e4-4bdb-aadf-b6b016dcd3c7",
   "metadata": {},
   "outputs": [],
   "source": []
  },
  {
   "cell_type": "code",
   "execution_count": null,
   "id": "774224fc-6d6d-4b95-ad6c-39ac1bd5a9f6",
   "metadata": {},
   "outputs": [],
   "source": []
  },
  {
   "cell_type": "code",
   "execution_count": null,
   "id": "59cc6229-7630-4f98-b8b7-bfb5ffc88cc4",
   "metadata": {},
   "outputs": [],
   "source": []
  }
 ],
 "metadata": {
  "kernelspec": {
   "display_name": "Python 3 (ipykernel)",
   "language": "python",
   "name": "python3"
  },
  "language_info": {
   "codemirror_mode": {
    "name": "ipython",
    "version": 3
   },
   "file_extension": ".py",
   "mimetype": "text/x-python",
   "name": "python",
   "nbconvert_exporter": "python",
   "pygments_lexer": "ipython3",
   "version": "3.8.10"
  }
 },
 "nbformat": 4,
 "nbformat_minor": 5
}
