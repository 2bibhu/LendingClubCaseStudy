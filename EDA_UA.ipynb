{
 "cells": [
  {
   "cell_type": "markdown",
   "metadata": {
    "tags": []
   },
   "source": [
    "# Lending Club Case Study:"
   ]
  },
  {
   "cell_type": "markdown",
   "metadata": {},
   "source": [
    "- Define Problem Statement\n",
    "- Background - why is it important to solve this problem\n",
    "- Approach to solve this"
   ]
  },
  {
   "cell_type": "markdown",
   "metadata": {},
   "source": [
    "Noted from session:\n",
    "remove the 'Current' applicaants\n",
    "remove loan behavior variable as they are not available at application\n"
   ]
  },
  {
   "cell_type": "markdown",
   "metadata": {},
   "source": [
    "### Import libraries\n"
   ]
  },
  {
   "cell_type": "code",
   "execution_count": 1,
   "metadata": {},
   "outputs": [],
   "source": [
    "#Importing libraries needed for this EDA\n",
    "import numpy as np\n",
    "import pandas as pd\n",
    "import matplotlib.pyplot as plt\n",
    "import seaborn as sns"
   ]
  },
  {
   "cell_type": "markdown",
   "metadata": {
    "tags": []
   },
   "source": [
    "## 1.) Data Sourcing / Gathering & Understanding:"
   ]
  },
  {
   "cell_type": "code",
   "execution_count": 2,
   "metadata": {},
   "outputs": [
    {
     "name": "stderr",
     "output_type": "stream",
     "text": [
      "C:\\Users\\bibhu1\\AppData\\Roaming\\Python\\Python37\\site-packages\\IPython\\core\\interactiveshell.py:3331: DtypeWarning: Columns (47) have mixed types.Specify dtype option on import or set low_memory=False.\n",
      "  exec(code_obj, self.user_global_ns, self.user_ns)\n"
     ]
    },
    {
     "data": {
      "text/plain": [
       "(39717, 111)"
      ]
     },
     "execution_count": 2,
     "metadata": {},
     "output_type": "execute_result"
    }
   ],
   "source": [
    "#extract data from csv file\n",
    "loan_df = pd.read_csv('loan.csv')\n",
    "loan_df.shape # check shape to know how many rows and columns have been loaded into the dataframe"
   ]
  },
  {
   "cell_type": "code",
   "execution_count": 3,
   "metadata": {
    "tags": []
   },
   "outputs": [
    {
     "data": {
      "text/html": [
       "<div>\n",
       "<style scoped>\n",
       "    .dataframe tbody tr th:only-of-type {\n",
       "        vertical-align: middle;\n",
       "    }\n",
       "\n",
       "    .dataframe tbody tr th {\n",
       "        vertical-align: top;\n",
       "    }\n",
       "\n",
       "    .dataframe thead th {\n",
       "        text-align: right;\n",
       "    }\n",
       "</style>\n",
       "<table border=\"1\" class=\"dataframe\">\n",
       "  <thead>\n",
       "    <tr style=\"text-align: right;\">\n",
       "      <th></th>\n",
       "      <th>id</th>\n",
       "      <th>member_id</th>\n",
       "      <th>loan_amnt</th>\n",
       "      <th>funded_amnt</th>\n",
       "      <th>funded_amnt_inv</th>\n",
       "      <th>term</th>\n",
       "      <th>int_rate</th>\n",
       "      <th>installment</th>\n",
       "      <th>grade</th>\n",
       "      <th>sub_grade</th>\n",
       "      <th>...</th>\n",
       "      <th>num_tl_90g_dpd_24m</th>\n",
       "      <th>num_tl_op_past_12m</th>\n",
       "      <th>pct_tl_nvr_dlq</th>\n",
       "      <th>percent_bc_gt_75</th>\n",
       "      <th>pub_rec_bankruptcies</th>\n",
       "      <th>tax_liens</th>\n",
       "      <th>tot_hi_cred_lim</th>\n",
       "      <th>total_bal_ex_mort</th>\n",
       "      <th>total_bc_limit</th>\n",
       "      <th>total_il_high_credit_limit</th>\n",
       "    </tr>\n",
       "  </thead>\n",
       "  <tbody>\n",
       "    <tr>\n",
       "      <th>0</th>\n",
       "      <td>1077501</td>\n",
       "      <td>1296599</td>\n",
       "      <td>5000</td>\n",
       "      <td>5000</td>\n",
       "      <td>4975.0</td>\n",
       "      <td>36 months</td>\n",
       "      <td>10.65%</td>\n",
       "      <td>162.87</td>\n",
       "      <td>B</td>\n",
       "      <td>B2</td>\n",
       "      <td>...</td>\n",
       "      <td>NaN</td>\n",
       "      <td>NaN</td>\n",
       "      <td>NaN</td>\n",
       "      <td>NaN</td>\n",
       "      <td>0.0</td>\n",
       "      <td>0.0</td>\n",
       "      <td>NaN</td>\n",
       "      <td>NaN</td>\n",
       "      <td>NaN</td>\n",
       "      <td>NaN</td>\n",
       "    </tr>\n",
       "    <tr>\n",
       "      <th>1</th>\n",
       "      <td>1077430</td>\n",
       "      <td>1314167</td>\n",
       "      <td>2500</td>\n",
       "      <td>2500</td>\n",
       "      <td>2500.0</td>\n",
       "      <td>60 months</td>\n",
       "      <td>15.27%</td>\n",
       "      <td>59.83</td>\n",
       "      <td>C</td>\n",
       "      <td>C4</td>\n",
       "      <td>...</td>\n",
       "      <td>NaN</td>\n",
       "      <td>NaN</td>\n",
       "      <td>NaN</td>\n",
       "      <td>NaN</td>\n",
       "      <td>0.0</td>\n",
       "      <td>0.0</td>\n",
       "      <td>NaN</td>\n",
       "      <td>NaN</td>\n",
       "      <td>NaN</td>\n",
       "      <td>NaN</td>\n",
       "    </tr>\n",
       "    <tr>\n",
       "      <th>2</th>\n",
       "      <td>1077175</td>\n",
       "      <td>1313524</td>\n",
       "      <td>2400</td>\n",
       "      <td>2400</td>\n",
       "      <td>2400.0</td>\n",
       "      <td>36 months</td>\n",
       "      <td>15.96%</td>\n",
       "      <td>84.33</td>\n",
       "      <td>C</td>\n",
       "      <td>C5</td>\n",
       "      <td>...</td>\n",
       "      <td>NaN</td>\n",
       "      <td>NaN</td>\n",
       "      <td>NaN</td>\n",
       "      <td>NaN</td>\n",
       "      <td>0.0</td>\n",
       "      <td>0.0</td>\n",
       "      <td>NaN</td>\n",
       "      <td>NaN</td>\n",
       "      <td>NaN</td>\n",
       "      <td>NaN</td>\n",
       "    </tr>\n",
       "    <tr>\n",
       "      <th>3</th>\n",
       "      <td>1076863</td>\n",
       "      <td>1277178</td>\n",
       "      <td>10000</td>\n",
       "      <td>10000</td>\n",
       "      <td>10000.0</td>\n",
       "      <td>36 months</td>\n",
       "      <td>13.49%</td>\n",
       "      <td>339.31</td>\n",
       "      <td>C</td>\n",
       "      <td>C1</td>\n",
       "      <td>...</td>\n",
       "      <td>NaN</td>\n",
       "      <td>NaN</td>\n",
       "      <td>NaN</td>\n",
       "      <td>NaN</td>\n",
       "      <td>0.0</td>\n",
       "      <td>0.0</td>\n",
       "      <td>NaN</td>\n",
       "      <td>NaN</td>\n",
       "      <td>NaN</td>\n",
       "      <td>NaN</td>\n",
       "    </tr>\n",
       "    <tr>\n",
       "      <th>4</th>\n",
       "      <td>1075358</td>\n",
       "      <td>1311748</td>\n",
       "      <td>3000</td>\n",
       "      <td>3000</td>\n",
       "      <td>3000.0</td>\n",
       "      <td>60 months</td>\n",
       "      <td>12.69%</td>\n",
       "      <td>67.79</td>\n",
       "      <td>B</td>\n",
       "      <td>B5</td>\n",
       "      <td>...</td>\n",
       "      <td>NaN</td>\n",
       "      <td>NaN</td>\n",
       "      <td>NaN</td>\n",
       "      <td>NaN</td>\n",
       "      <td>0.0</td>\n",
       "      <td>0.0</td>\n",
       "      <td>NaN</td>\n",
       "      <td>NaN</td>\n",
       "      <td>NaN</td>\n",
       "      <td>NaN</td>\n",
       "    </tr>\n",
       "  </tbody>\n",
       "</table>\n",
       "<p>5 rows × 111 columns</p>\n",
       "</div>"
      ],
      "text/plain": [
       "        id  member_id  loan_amnt  funded_amnt  funded_amnt_inv        term  \\\n",
       "0  1077501    1296599       5000         5000           4975.0   36 months   \n",
       "1  1077430    1314167       2500         2500           2500.0   60 months   \n",
       "2  1077175    1313524       2400         2400           2400.0   36 months   \n",
       "3  1076863    1277178      10000        10000          10000.0   36 months   \n",
       "4  1075358    1311748       3000         3000           3000.0   60 months   \n",
       "\n",
       "  int_rate  installment grade sub_grade  ... num_tl_90g_dpd_24m  \\\n",
       "0   10.65%       162.87     B        B2  ...                NaN   \n",
       "1   15.27%        59.83     C        C4  ...                NaN   \n",
       "2   15.96%        84.33     C        C5  ...                NaN   \n",
       "3   13.49%       339.31     C        C1  ...                NaN   \n",
       "4   12.69%        67.79     B        B5  ...                NaN   \n",
       "\n",
       "  num_tl_op_past_12m pct_tl_nvr_dlq  percent_bc_gt_75 pub_rec_bankruptcies  \\\n",
       "0                NaN            NaN               NaN                  0.0   \n",
       "1                NaN            NaN               NaN                  0.0   \n",
       "2                NaN            NaN               NaN                  0.0   \n",
       "3                NaN            NaN               NaN                  0.0   \n",
       "4                NaN            NaN               NaN                  0.0   \n",
       "\n",
       "  tax_liens tot_hi_cred_lim total_bal_ex_mort total_bc_limit  \\\n",
       "0       0.0             NaN               NaN            NaN   \n",
       "1       0.0             NaN               NaN            NaN   \n",
       "2       0.0             NaN               NaN            NaN   \n",
       "3       0.0             NaN               NaN            NaN   \n",
       "4       0.0             NaN               NaN            NaN   \n",
       "\n",
       "  total_il_high_credit_limit  \n",
       "0                        NaN  \n",
       "1                        NaN  \n",
       "2                        NaN  \n",
       "3                        NaN  \n",
       "4                        NaN  \n",
       "\n",
       "[5 rows x 111 columns]"
      ]
     },
     "execution_count": 3,
     "metadata": {},
     "output_type": "execute_result"
    }
   ],
   "source": [
    "#inspect sample rows\n",
    "loan_df.head()"
   ]
  },
  {
   "cell_type": "markdown",
   "metadata": {},
   "source": [
    "Refer to data dictionary to decide which columns are needed and which can be removed\n",
    " - list of columns, data dictionary definition"
   ]
  },
  {
   "cell_type": "code",
   "execution_count": 4,
   "metadata": {},
   "outputs": [
    {
     "data": {
      "text/plain": [
       "(39717, 101)"
      ]
     },
     "execution_count": 4,
     "metadata": {},
     "output_type": "execute_result"
    }
   ],
   "source": [
    "#Remove data not in scope of our analysis\n",
    "post_loan_data_points = ['total_pymnt','total_pymnt_inv','total_rec_prncp','total_rec_int'\n",
    "                         ,'total_rec_late_fee','pymnt_plan','out_prncp','out_prncp_inv'\n",
    "                        ,'last_pymnt_d','last_pymnt_amnt']\n",
    "\n",
    "loan_df.drop(labels = post_loan_data_points, axis =1, inplace = True)\n",
    "\n",
    "loan_df.shape # check shape to know how many rows and columns have been loaded into the dataframe"
   ]
  },
  {
   "cell_type": "code",
   "execution_count": 5,
   "metadata": {
    "tags": []
   },
   "outputs": [
    {
     "data": {
      "text/plain": [
       "Fully Paid     32950\n",
       "Charged Off     5627\n",
       "Current         1140\n",
       "Name: loan_status, dtype: int64"
      ]
     },
     "execution_count": 5,
     "metadata": {},
     "output_type": "execute_result"
    }
   ],
   "source": [
    "# target variables of interest\n",
    "loan_df.loan_status.value_counts()"
   ]
  },
  {
   "cell_type": "code",
   "execution_count": 6,
   "metadata": {},
   "outputs": [
    {
     "data": {
      "text/plain": [
       "Fully Paid     32950\n",
       "Charged Off     5627\n",
       "Name: loan_status, dtype: int64"
      ]
     },
     "execution_count": 6,
     "metadata": {},
     "output_type": "execute_result"
    }
   ],
   "source": [
    "loan_df = loan_df[loan_df.loan_status !='Current']\n",
    "loan_df.loan_status.value_counts()"
   ]
  },
  {
   "cell_type": "markdown",
   "metadata": {},
   "source": [
    "## 2.) Data Handling & Cleaning\n",
    " - data cleaning: missing vaslues, tratment, check high % of missing values, drop rows, clumns, impute (try to explain in documentation so the grader can understand)\n",
    " - outliers, treatment,\n",
    " - derived variables, transformations, % metrics?\\\n",
    " - data types"
   ]
  },
  {
   "cell_type": "code",
   "execution_count": 7,
   "metadata": {},
   "outputs": [
    {
     "name": "stdout",
     "output_type": "stream",
     "text": [
      "<class 'pandas.core.frame.DataFrame'>\n",
      "Int64Index: 38577 entries, 0 to 39716\n",
      "Columns: 101 entries, id to total_il_high_credit_limit\n",
      "dtypes: float64(66), int64(13), object(22)\n",
      "memory usage: 30.0+ MB\n"
     ]
    }
   ],
   "source": [
    "#check columns and null counts\n",
    "loan_df.info()"
   ]
  },
  {
   "cell_type": "markdown",
   "metadata": {},
   "source": [
    "**Finding:** There are several columns which have 0 non-null values"
   ]
  },
  {
   "cell_type": "code",
   "execution_count": 8,
   "metadata": {},
   "outputs": [
    {
     "name": "stdout",
     "output_type": "stream",
     "text": [
      "<class 'pandas.core.frame.DataFrame'>\n",
      "Int64Index: 38577 entries, 0 to 39716\n",
      "Data columns (total 46 columns):\n",
      " #   Column                      Non-Null Count  Dtype  \n",
      "---  ------                      --------------  -----  \n",
      " 0   id                          38577 non-null  int64  \n",
      " 1   member_id                   38577 non-null  int64  \n",
      " 2   loan_amnt                   38577 non-null  int64  \n",
      " 3   funded_amnt                 38577 non-null  int64  \n",
      " 4   funded_amnt_inv             38577 non-null  float64\n",
      " 5   term                        38577 non-null  object \n",
      " 6   int_rate                    38577 non-null  object \n",
      " 7   installment                 38577 non-null  float64\n",
      " 8   grade                       38577 non-null  object \n",
      " 9   sub_grade                   38577 non-null  object \n",
      " 10  emp_title                   36191 non-null  object \n",
      " 11  emp_length                  37544 non-null  object \n",
      " 12  home_ownership              38577 non-null  object \n",
      " 13  annual_inc                  38577 non-null  float64\n",
      " 14  verification_status         38577 non-null  object \n",
      " 15  issue_d                     38577 non-null  object \n",
      " 16  loan_status                 38577 non-null  object \n",
      " 17  url                         38577 non-null  object \n",
      " 18  desc                        26050 non-null  object \n",
      " 19  purpose                     38577 non-null  object \n",
      " 20  title                       38566 non-null  object \n",
      " 21  zip_code                    38577 non-null  object \n",
      " 22  addr_state                  38577 non-null  object \n",
      " 23  dti                         38577 non-null  float64\n",
      " 24  delinq_2yrs                 38577 non-null  int64  \n",
      " 25  earliest_cr_line            38577 non-null  object \n",
      " 26  inq_last_6mths              38577 non-null  int64  \n",
      " 27  mths_since_last_delinq      13672 non-null  float64\n",
      " 28  mths_since_last_record      2740 non-null   float64\n",
      " 29  open_acc                    38577 non-null  int64  \n",
      " 30  pub_rec                     38577 non-null  int64  \n",
      " 31  revol_bal                   38577 non-null  int64  \n",
      " 32  revol_util                  38527 non-null  object \n",
      " 33  total_acc                   38577 non-null  int64  \n",
      " 34  initial_list_status         38577 non-null  object \n",
      " 35  recoveries                  38577 non-null  float64\n",
      " 36  collection_recovery_fee     38577 non-null  float64\n",
      " 37  last_credit_pull_d          38575 non-null  object \n",
      " 38  collections_12_mths_ex_med  38521 non-null  float64\n",
      " 39  policy_code                 38577 non-null  int64  \n",
      " 40  application_type            38577 non-null  object \n",
      " 41  acc_now_delinq              38577 non-null  int64  \n",
      " 42  chargeoff_within_12_mths    38521 non-null  float64\n",
      " 43  delinq_amnt                 38577 non-null  int64  \n",
      " 44  pub_rec_bankruptcies        37880 non-null  float64\n",
      " 45  tax_liens                   38538 non-null  float64\n",
      "dtypes: float64(12), int64(13), object(21)\n",
      "memory usage: 13.8+ MB\n"
     ]
    }
   ],
   "source": [
    "#Removing columns with 0 non null values\n",
    "loan_df.dropna(axis = 1, how = 'all',inplace = True)\n",
    "\n",
    "#Removing rows with 0 non null values\n",
    "loan_df.dropna(axis = 0, how = 'all',inplace = True)\n",
    "\n",
    "#Checking after removing\n",
    "loan_df.info(verbose = True, show_counts = True)"
   ]
  },
  {
   "cell_type": "code",
   "execution_count": 9,
   "metadata": {},
   "outputs": [
    {
     "data": {
      "text/plain": [
       "mths_since_last_record        92.90\n",
       "mths_since_last_delinq        64.56\n",
       "desc                          32.47\n",
       "emp_title                      6.19\n",
       "emp_length                     2.68\n",
       "pub_rec_bankruptcies           1.81\n",
       "chargeoff_within_12_mths       0.15\n",
       "collections_12_mths_ex_med     0.15\n",
       "revol_util                     0.13\n",
       "tax_liens                      0.10\n",
       "title                          0.03\n",
       "last_credit_pull_d             0.01\n",
       "dtype: float64"
      ]
     },
     "execution_count": 9,
     "metadata": {},
     "output_type": "execute_result"
    }
   ],
   "source": [
    "# % of missing values in mising value columns\n",
    "cols_50null = loan_df.isnull().mean().round(4).sort_values( ascending = False)*100\n",
    "cols_50null[cols_50null.values > 0]"
   ]
  },
  {
   "cell_type": "markdown",
   "metadata": {},
   "source": [
    "Missing data is in these columns:\n",
    " - desc\n",
    " - emp_title \n",
    " - emp_length\n",
    " - pub_rec_bankruptcies \n",
    " - collections_12_mths_ex_med \n",
    " - chargeoff_within_12_mths \n",
    " - revol_util \n",
    " - tax_liens \n",
    " - title \n",
    " - last_credit_pull_d "
   ]
  },
  {
   "cell_type": "markdown",
   "metadata": {},
   "source": [
    "Finding: next_pymnt_d, mths_since_last_record, mths_since_last_delinq colums have high % of missing values, hence removing them"
   ]
  },
  {
   "cell_type": "code",
   "execution_count": 10,
   "metadata": {},
   "outputs": [],
   "source": [
    "#Removing columns with nulls greater than 50 perc\n",
    "cols_drop1 = cols_50null[cols_50null.values > 50]\n",
    "loan_df.drop(columns=cols_drop1.index, inplace=True)"
   ]
  },
  {
   "cell_type": "code",
   "execution_count": 11,
   "metadata": {},
   "outputs": [
    {
     "data": {
      "text/plain": [
       "(38577, 44)"
      ]
     },
     "execution_count": 11,
     "metadata": {},
     "output_type": "execute_result"
    }
   ],
   "source": [
    "#Checking after removing\n",
    "loan_df.shape"
   ]
  },
  {
   "cell_type": "code",
   "execution_count": 12,
   "metadata": {},
   "outputs": [
    {
     "data": {
      "text/plain": [
       "tax_liens                         1\n",
       "delinq_amnt                       1\n",
       "chargeoff_within_12_mths          1\n",
       "acc_now_delinq                    1\n",
       "application_type                  1\n",
       "policy_code                       1\n",
       "collections_12_mths_ex_med        1\n",
       "initial_list_status               1\n",
       "term                              2\n",
       "loan_status                       2\n",
       "pub_rec_bankruptcies              3\n",
       "verification_status               3\n",
       "pub_rec                           5\n",
       "home_ownership                    5\n",
       "grade                             7\n",
       "inq_last_6mths                    9\n",
       "emp_length                       11\n",
       "delinq_2yrs                      11\n",
       "purpose                          14\n",
       "sub_grade                        35\n",
       "open_acc                         40\n",
       "addr_state                       50\n",
       "issue_d                          55\n",
       "total_acc                        82\n",
       "last_credit_pull_d              106\n",
       "int_rate                        370\n",
       "earliest_cr_line                524\n",
       "zip_code                        822\n",
       "loan_amnt                       870\n",
       "funded_amnt                    1019\n",
       "revol_util                     1088\n",
       "collection_recovery_fee        2616\n",
       "dti                            2853\n",
       "recoveries                     4040\n",
       "annual_inc                     5215\n",
       "funded_amnt_inv                8050\n",
       "installment                   15022\n",
       "title                         19297\n",
       "revol_bal                     21275\n",
       "desc                          25803\n",
       "emp_title                     28027\n",
       "url                           38577\n",
       "member_id                     38577\n",
       "id                            38577\n",
       "dtype: int64"
      ]
     },
     "execution_count": 12,
     "metadata": {},
     "output_type": "execute_result"
    }
   ],
   "source": [
    "#Check value range for column to remove columns with single value\n",
    "cols_uniquevals=loan_df.nunique().sort_values()\n",
    "cols_uniquevals"
   ]
  },
  {
   "cell_type": "code",
   "execution_count": 13,
   "metadata": {},
   "outputs": [],
   "source": [
    "#Removing columns with single values\n",
    "cols_drop2 = cols_uniquevals[cols_uniquevals.values == 1]\n",
    "loan_df.drop(columns=cols_drop2.index,inplace=True)"
   ]
  },
  {
   "cell_type": "code",
   "execution_count": 14,
   "metadata": {},
   "outputs": [
    {
     "data": {
      "text/plain": [
       "(38577, 36)"
      ]
     },
     "execution_count": 14,
     "metadata": {},
     "output_type": "execute_result"
    }
   ],
   "source": [
    "#Checking after removing\n",
    "loan_df.shape"
   ]
  },
  {
   "cell_type": "code",
   "execution_count": 15,
   "metadata": {},
   "outputs": [
    {
     "data": {
      "text/plain": [
       "desc                       0.3247\n",
       "emp_title                  0.0619\n",
       "emp_length                 0.0268\n",
       "pub_rec_bankruptcies       0.0181\n",
       "revol_util                 0.0013\n",
       "title                      0.0003\n",
       "last_credit_pull_d         0.0001\n",
       "term                       0.0000\n",
       "collection_recovery_fee    0.0000\n",
       "recoveries                 0.0000\n",
       "total_acc                  0.0000\n",
       "revol_bal                  0.0000\n",
       "pub_rec                    0.0000\n",
       "open_acc                   0.0000\n",
       "inq_last_6mths             0.0000\n",
       "earliest_cr_line           0.0000\n",
       "delinq_2yrs                0.0000\n",
       "dti                        0.0000\n",
       "addr_state                 0.0000\n",
       "zip_code                   0.0000\n",
       "funded_amnt_inv            0.0000\n",
       "purpose                    0.0000\n",
       "member_id                  0.0000\n",
       "url                        0.0000\n",
       "loan_status                0.0000\n",
       "issue_d                    0.0000\n",
       "verification_status        0.0000\n",
       "annual_inc                 0.0000\n",
       "home_ownership             0.0000\n",
       "loan_amnt                  0.0000\n",
       "funded_amnt                0.0000\n",
       "sub_grade                  0.0000\n",
       "grade                      0.0000\n",
       "installment                0.0000\n",
       "int_rate                   0.0000\n",
       "id                         0.0000\n",
       "dtype: float64"
      ]
     },
     "execution_count": 15,
     "metadata": {},
     "output_type": "execute_result"
    }
   ],
   "source": [
    "# Remaining perc of missing values\n",
    "loan_df.isnull().mean().round(4).sort_values( ascending = False)"
   ]
  },
  {
   "cell_type": "markdown",
   "metadata": {},
   "source": [
    "### Remaining Missing Data"
   ]
  },
  {
   "cell_type": "markdown",
   "metadata": {},
   "source": [
    "Missing data is in these columns:\n",
    "- desc                       32.47\n",
    "- emp_title                   6.19\n",
    "- emp_length                  2.68\n",
    "  - Impute using median\n",
    "- pub_rec_bankruptcies        1.81\n",
    "  - Impute using median\n",
    "\n",
    "Below can be ignored:\n",
    "- revol_util                  0.13\n",
    "- title                       0.03\n",
    "- last_credit_pull_d          0.01\n"
   ]
  },
  {
   "cell_type": "markdown",
   "metadata": {},
   "source": [
    "### Impute missing Data"
   ]
  },
  {
   "cell_type": "markdown",
   "metadata": {},
   "source": [
    "##### 1) Impute emp_length"
   ]
  },
  {
   "cell_type": "code",
   "execution_count": 16,
   "metadata": {},
   "outputs": [
    {
     "data": {
      "text/plain": [
       "10+ years    8488\n",
       "< 1 year     4508\n",
       "2 years      4291\n",
       "3 years      4012\n",
       "4 years      3342\n",
       "5 years      3194\n",
       "1 year       3169\n",
       "6 years      2168\n",
       "7 years      1711\n",
       "8 years      1435\n",
       "9 years      1226\n",
       "NaN          1033\n",
       "Name: emp_length, dtype: int64"
      ]
     },
     "execution_count": 16,
     "metadata": {},
     "output_type": "execute_result"
    }
   ],
   "source": [
    "# Check\n",
    "loan_df.emp_length.value_counts(dropna=False)"
   ]
  },
  {
   "cell_type": "code",
   "execution_count": 17,
   "metadata": {},
   "outputs": [
    {
     "data": {
      "text/plain": [
       "10+ years    9521\n",
       "< 1 year     4508\n",
       "2 years      4291\n",
       "3 years      4012\n",
       "4 years      3342\n",
       "5 years      3194\n",
       "1 year       3169\n",
       "6 years      2168\n",
       "7 years      1711\n",
       "8 years      1435\n",
       "9 years      1226\n",
       "Name: emp_length, dtype: int64"
      ]
     },
     "execution_count": 17,
     "metadata": {},
     "output_type": "execute_result"
    }
   ],
   "source": [
    "#Replace the nulls with the Mode\n",
    "loan_df['emp_length'] = loan_df.emp_length.fillna(loan_df.emp_length.mode()[0])\n",
    "\n",
    "#check\n",
    "loan_df.emp_length.value_counts(dropna=False)"
   ]
  },
  {
   "cell_type": "markdown",
   "metadata": {},
   "source": [
    "#### 2) Impute pub_rec_bankruptcies"
   ]
  },
  {
   "cell_type": "code",
   "execution_count": 18,
   "metadata": {},
   "outputs": [
    {
     "data": {
      "text/plain": [
       "0.0    36238\n",
       "1.0     1637\n",
       "NaN      697\n",
       "2.0        5\n",
       "Name: pub_rec_bankruptcies, dtype: int64"
      ]
     },
     "execution_count": 18,
     "metadata": {},
     "output_type": "execute_result"
    }
   ],
   "source": [
    "# Check\n",
    "loan_df.pub_rec_bankruptcies.value_counts(dropna=False)"
   ]
  },
  {
   "cell_type": "code",
   "execution_count": 19,
   "metadata": {},
   "outputs": [
    {
     "data": {
      "text/plain": [
       "0.0    36935\n",
       "1.0     1637\n",
       "2.0        5\n",
       "Name: pub_rec_bankruptcies, dtype: int64"
      ]
     },
     "execution_count": 19,
     "metadata": {},
     "output_type": "execute_result"
    }
   ],
   "source": [
    "#Replace the nulls with the Mode\n",
    "loan_df['pub_rec_bankruptcies'] = loan_df.pub_rec_bankruptcies.fillna(loan_df.pub_rec_bankruptcies.mode()[0])\n",
    "\n",
    "#check\n",
    "loan_df.pub_rec_bankruptcies.value_counts(dropna=False)"
   ]
  },
  {
   "cell_type": "code",
   "execution_count": 20,
   "metadata": {},
   "outputs": [
    {
     "data": {
      "text/plain": [
       "desc                  32.47\n",
       "emp_title              6.19\n",
       "revol_util             0.13\n",
       "title                  0.03\n",
       "last_credit_pull_d     0.01\n",
       "dtype: float64"
      ]
     },
     "execution_count": 20,
     "metadata": {},
     "output_type": "execute_result"
    }
   ],
   "source": [
    "# Check Final left out missing values the dataset\n",
    "cols_50null = loan_df.isnull().mean().round(4).sort_values( ascending = False)*100\n",
    "cols_50null[cols_50null.values > 0]"
   ]
  },
  {
   "cell_type": "markdown",
   "metadata": {},
   "source": [
    "### Drop duplicate records if any"
   ]
  },
  {
   "cell_type": "code",
   "execution_count": 21,
   "metadata": {},
   "outputs": [
    {
     "data": {
      "text/plain": [
       "(38577, 36)"
      ]
     },
     "execution_count": 21,
     "metadata": {},
     "output_type": "execute_result"
    }
   ],
   "source": [
    "# Drop Duplicate row if any?\n",
    "loan_df.drop_duplicates()\n",
    "loan_df.shape"
   ]
  },
  {
   "cell_type": "markdown",
   "metadata": {},
   "source": [
    "### Format Data"
   ]
  },
  {
   "cell_type": "code",
   "execution_count": 22,
   "metadata": {},
   "outputs": [
    {
     "data": {
      "text/html": [
       "<div>\n",
       "<style scoped>\n",
       "    .dataframe tbody tr th:only-of-type {\n",
       "        vertical-align: middle;\n",
       "    }\n",
       "\n",
       "    .dataframe tbody tr th {\n",
       "        vertical-align: top;\n",
       "    }\n",
       "\n",
       "    .dataframe thead th {\n",
       "        text-align: right;\n",
       "    }\n",
       "</style>\n",
       "<table border=\"1\" class=\"dataframe\">\n",
       "  <thead>\n",
       "    <tr style=\"text-align: right;\">\n",
       "      <th></th>\n",
       "      <th>term</th>\n",
       "      <th>int_rate</th>\n",
       "      <th>revol_util</th>\n",
       "    </tr>\n",
       "  </thead>\n",
       "  <tbody>\n",
       "    <tr>\n",
       "      <th>0</th>\n",
       "      <td>36 months</td>\n",
       "      <td>10.65%</td>\n",
       "      <td>83.70%</td>\n",
       "    </tr>\n",
       "    <tr>\n",
       "      <th>1</th>\n",
       "      <td>60 months</td>\n",
       "      <td>15.27%</td>\n",
       "      <td>9.40%</td>\n",
       "    </tr>\n",
       "    <tr>\n",
       "      <th>2</th>\n",
       "      <td>36 months</td>\n",
       "      <td>15.96%</td>\n",
       "      <td>98.50%</td>\n",
       "    </tr>\n",
       "    <tr>\n",
       "      <th>3</th>\n",
       "      <td>36 months</td>\n",
       "      <td>13.49%</td>\n",
       "      <td>21%</td>\n",
       "    </tr>\n",
       "    <tr>\n",
       "      <th>5</th>\n",
       "      <td>36 months</td>\n",
       "      <td>7.90%</td>\n",
       "      <td>28.30%</td>\n",
       "    </tr>\n",
       "  </tbody>\n",
       "</table>\n",
       "</div>"
      ],
      "text/plain": [
       "         term int_rate revol_util\n",
       "0   36 months   10.65%     83.70%\n",
       "1   60 months   15.27%      9.40%\n",
       "2   36 months   15.96%     98.50%\n",
       "3   36 months   13.49%        21%\n",
       "5   36 months    7.90%     28.30%"
      ]
     },
     "execution_count": 22,
     "metadata": {},
     "output_type": "execute_result"
    }
   ],
   "source": [
    "# Check format\n",
    "loan_df[['term','int_rate','revol_util']].head()"
   ]
  },
  {
   "cell_type": "markdown",
   "metadata": {},
   "source": [
    "#### 1) Format Term, remove trail character months"
   ]
  },
  {
   "cell_type": "code",
   "execution_count": 23,
   "metadata": {},
   "outputs": [
    {
     "data": {
      "text/plain": [
       "array([36, 60])"
      ]
     },
     "execution_count": 23,
     "metadata": {},
     "output_type": "execute_result"
    }
   ],
   "source": [
    "# Format term, remove trailing months\n",
    "loan_df['term']=loan_df.term.str.replace(' months','')\n",
    "loan_df['term']=loan_df.term.str.strip().astype(int)\n",
    "#Check transformed format\n",
    "loan_df.term.unique()"
   ]
  },
  {
   "cell_type": "code",
   "execution_count": 24,
   "metadata": {},
   "outputs": [],
   "source": [
    "#### 2) Format int_rate, remove trailing %"
   ]
  },
  {
   "cell_type": "code",
   "execution_count": 25,
   "metadata": {},
   "outputs": [
    {
     "data": {
      "text/plain": [
       "0    10.65\n",
       "1    15.27\n",
       "2    15.96\n",
       "3    13.49\n",
       "5     7.90\n",
       "Name: int_rate, dtype: float64"
      ]
     },
     "execution_count": 25,
     "metadata": {},
     "output_type": "execute_result"
    }
   ],
   "source": [
    "# Format term, remove trailing %\n",
    "loan_df['int_rate']=loan_df['int_rate'].str.replace('%','').astype(float)\n",
    "\n",
    "# Check format\n",
    "loan_df.int_rate.head()"
   ]
  },
  {
   "cell_type": "code",
   "execution_count": 26,
   "metadata": {},
   "outputs": [],
   "source": [
    "#### 3) Format revol_util, remove trailing %"
   ]
  },
  {
   "cell_type": "code",
   "execution_count": 27,
   "metadata": {},
   "outputs": [
    {
     "data": {
      "text/plain": [
       "0    83.7\n",
       "1     9.4\n",
       "2    98.5\n",
       "3    21.0\n",
       "5    28.3\n",
       "Name: revol_util, dtype: float64"
      ]
     },
     "execution_count": 27,
     "metadata": {},
     "output_type": "execute_result"
    }
   ],
   "source": [
    "# Format term, remove trailing %\n",
    "loan_df['revol_util']=loan_df['revol_util'].str.replace('%','').astype(float)\n",
    "\n",
    "# Check format\n",
    "loan_df.revol_util.head()"
   ]
  },
  {
   "cell_type": "markdown",
   "metadata": {},
   "source": [
    "# 3.) Exploratory Analysis & Data Visualisation \n",
    "- univariates,\n",
    "- bivariates, \n",
    "- derived variables, \n",
    "- % metric,\n",
    "- types of visuals"
   ]
  },
  {
   "cell_type": "code",
   "execution_count": 28,
   "metadata": {},
   "outputs": [
    {
     "data": {
      "text/plain": [
       "0    32950\n",
       "1     5627\n",
       "Name: Default_flag, dtype: int64"
      ]
     },
     "execution_count": 28,
     "metadata": {},
     "output_type": "execute_result"
    }
   ],
   "source": [
    "# Target variable\n",
    "loan_df['Default_flag'] = loan_df.loan_status.apply(lambda x : 1 if x == 'Charged Off' else 0)\n",
    "#check\n",
    "loan_df.Default_flag.value_counts()"
   ]
  },
  {
   "cell_type": "code",
   "execution_count": 29,
   "metadata": {},
   "outputs": [
    {
     "data": {
      "text/plain": [
       "No     32950\n",
       "Yes     5627\n",
       "Name: Default_YesNo, dtype: int64"
      ]
     },
     "execution_count": 29,
     "metadata": {},
     "output_type": "execute_result"
    }
   ],
   "source": [
    "# Target variable Yes/No\n",
    "loan_df['Default_YesNo'] = loan_df.loan_status.apply(lambda x : 'Yes' if x == 'Charged Off' else 'No')\n",
    "#check\n",
    "loan_df.Default_YesNo.value_counts()"
   ]
  },
  {
   "cell_type": "code",
   "execution_count": 30,
   "metadata": {},
   "outputs": [
    {
     "name": "stderr",
     "output_type": "stream",
     "text": [
      "C:\\ProgramData\\Anaconda3\\lib\\site-packages\\seaborn\\_decorators.py:43: FutureWarning: Pass the following variables as keyword args: x, y. From version 0.12, the only valid positional argument will be `data`, and passing other arguments without an explicit keyword will result in an error or misinterpretation.\n",
      "  FutureWarning\n"
     ]
    },
    {
     "data": {
      "image/png": "[encoded data removed]",
      "text/plain": [
       "<Figure size 648x504 with 1 Axes>"
      ]
     },
     "metadata": {
      "needs_background": "light"
     },
     "output_type": "display_data"
    }
   ],
   "source": [
    "plt.figure(figsize=[9,7])\n",
    "sns.boxplot(loan_df['Default_flag'],loan_df['loan_amnt'])\n",
    "plt.show()"
   ]
  },
  {
   "cell_type": "code",
   "execution_count": 31,
   "metadata": {},
   "outputs": [],
   "source": [
    "#deafult rate\n",
    "data = loan_df.groupby('emp_length').Default_flag.mean().round(4)*100\n"
   ]
  },
  {
   "cell_type": "code",
   "execution_count": 32,
   "metadata": {},
   "outputs": [
    {
     "data": {
      "text/plain": [
       "emp_length\n",
       "1 year       14.39\n",
       "10+ years    16.37\n",
       "2 years      13.21\n",
       "3 years      13.83\n",
       "4 years      13.82\n",
       "5 years      14.34\n",
       "6 years      14.16\n",
       "7 years      15.37\n",
       "8 years      14.15\n",
       "9 years      12.89\n",
       "< 1 year     14.17\n",
       "Name: Default_flag, dtype: float64"
      ]
     },
     "execution_count": 32,
     "metadata": {},
     "output_type": "execute_result"
    }
   ],
   "source": [
    "data"
   ]
  },
  {
   "cell_type": "code",
   "execution_count": 33,
   "metadata": {},
   "outputs": [
    {
     "data": {
      "image/png": "[encoded data removed]",
      "text/plain": [
       "<Figure size 720x648 with 1 Axes>"
      ]
     },
     "metadata": {
      "needs_background": "light"
     },
     "output_type": "display_data"
    }
   ],
   "source": [
    "plt.figure(figsize=[10,9])\n",
    "sns.barplot(x=data.index , y =data.values)\n",
    "plt.show()"
   ]
  },
  {
   "cell_type": "markdown",
   "metadata": {},
   "source": [
    "## 4.) Findings/Results/Insights/Summary/Recommendations"
   ]
  },
  {
   "cell_type": "code",
   "execution_count": null,
   "metadata": {},
   "outputs": [],
   "source": []
  },
  {
   "cell_type": "code",
   "execution_count": null,
   "metadata": {},
   "outputs": [],
   "source": []
  },
  {
   "cell_type": "markdown",
   "metadata": {},
   "source": [
    "Notes from our chat:\n",
    "    \n",
    "- Cleaning:\n",
    "    - complete imputing missing values for all\n",
    "    - fixing formats (intrest rate, )\n",
    "    - outliers?\n",
    "    \n",
    "- Analysis:\n",
    "    - Continuous variables - box plot Vs Default Flag;\n",
    "    - Continuous variables - binning and then mean of default flag\n",
    "    - Categorical variable - box plot and plot mean of default flag\n",
    "\n",
    "- Create new Derived variables?   \n",
    "\n",
    "- first cut of vars to try:\n",
    "    - loan_amnt\n",
    "    - term\n",
    "    - int_rate\n",
    "    - installment\n",
    "    - grade & subgrade\n",
    "    - purpose\n",
    "    - title?\n",
    "    - application_type\n",
    "\n",
    "   -  emp length\n",
    "    - home_owner\n",
    "    - annual_inc\n",
    "    - verification status & annual inc (try bivariate heat map)\n",
    "    - addr_state\n",
    "    - dti\n",
    "    - delinq_2yrs\n",
    "    - earliest_cr_line -- (time since first credit line, use difference btween issue date & earliest cr date)\n",
    "    - inq_last_6mnths\n",
    "    - open_acc or total_acc ?\n",
    "    - revol_bal, revol_util\n",
    "    - pub_rec_bankruptcies, tax_liens\n",
    "\n",
    "\n",
    "- Not sure:\n",
    "    - chargeoff_within_12_mths\n",
    "    \n",
    "\n",
    "\n"
   ]
  },
  {
   "cell_type": "markdown",
   "metadata": {},
   "source": [
    "### Correlation findings among variables"
   ]
  },
  {
   "cell_type": "code",
   "execution_count": 34,
   "metadata": {},
   "outputs": [
    {
     "name": "stdout",
     "output_type": "stream",
     "text": [
      "<class 'pandas.core.frame.DataFrame'>\n",
      "Int64Index: 38577 entries, 0 to 39716\n",
      "Data columns (total 38 columns):\n",
      " #   Column                   Non-Null Count  Dtype  \n",
      "---  ------                   --------------  -----  \n",
      " 0   id                       38577 non-null  int64  \n",
      " 1   member_id                38577 non-null  int64  \n",
      " 2   loan_amnt                38577 non-null  int64  \n",
      " 3   funded_amnt              38577 non-null  int64  \n",
      " 4   funded_amnt_inv          38577 non-null  float64\n",
      " 5   term                     38577 non-null  int32  \n",
      " 6   int_rate                 38577 non-null  float64\n",
      " 7   installment              38577 non-null  float64\n",
      " 8   grade                    38577 non-null  object \n",
      " 9   sub_grade                38577 non-null  object \n",
      " 10  emp_title                36191 non-null  object \n",
      " 11  emp_length               38577 non-null  object \n",
      " 12  home_ownership           38577 non-null  object \n",
      " 13  annual_inc               38577 non-null  float64\n",
      " 14  verification_status      38577 non-null  object \n",
      " 15  issue_d                  38577 non-null  object \n",
      " 16  loan_status              38577 non-null  object \n",
      " 17  url                      38577 non-null  object \n",
      " 18  desc                     26050 non-null  object \n",
      " 19  purpose                  38577 non-null  object \n",
      " 20  title                    38566 non-null  object \n",
      " 21  zip_code                 38577 non-null  object \n",
      " 22  addr_state               38577 non-null  object \n",
      " 23  dti                      38577 non-null  float64\n",
      " 24  delinq_2yrs              38577 non-null  int64  \n",
      " 25  earliest_cr_line         38577 non-null  object \n",
      " 26  inq_last_6mths           38577 non-null  int64  \n",
      " 27  open_acc                 38577 non-null  int64  \n",
      " 28  pub_rec                  38577 non-null  int64  \n",
      " 29  revol_bal                38577 non-null  int64  \n",
      " 30  revol_util               38527 non-null  float64\n",
      " 31  total_acc                38577 non-null  int64  \n",
      " 32  recoveries               38577 non-null  float64\n",
      " 33  collection_recovery_fee  38577 non-null  float64\n",
      " 34  last_credit_pull_d       38575 non-null  object \n",
      " 35  pub_rec_bankruptcies     38577 non-null  float64\n",
      " 36  Default_flag             38577 non-null  int64  \n",
      " 37  Default_YesNo            38577 non-null  object \n",
      "dtypes: float64(9), int32(1), int64(11), object(17)\n",
      "memory usage: 12.3+ MB\n"
     ]
    }
   ],
   "source": [
    "loan_df.info()"
   ]
  },
  {
   "cell_type": "code",
   "execution_count": 35,
   "metadata": {},
   "outputs": [
    {
     "data": {
      "image/png": "[encoded data removed]",
      "text/plain": [
       "<Figure size 1080x864 with 2 Axes>"
      ]
     },
     "metadata": {
      "needs_background": "light"
     },
     "output_type": "display_data"
    }
   ],
   "source": [
    "loan_corr = loan_df[['loan_amnt','funded_amnt','term','int_rate','installment','emp_length','dti','annual_inc','delinq_2yrs','inq_last_6mths','revol_bal','revol_util','total_acc']].corr()\n",
    "plt.figure(figsize=[15,12])\n",
    "sns.heatmap(loan_corr)\n",
    "plt.show()"
   ]
  },
  {
   "cell_type": "code",
   "execution_count": 36,
   "metadata": {},
   "outputs": [
    {
     "data": {
      "text/plain": [
       "array(['RENT', 'OWN', 'MORTGAGE', 'OTHER', 'NONE'], dtype=object)"
      ]
     },
     "execution_count": 36,
     "metadata": {},
     "output_type": "execute_result"
    }
   ],
   "source": [
    "loan_df.home_ownership.unique()"
   ]
  },
  {
   "cell_type": "code",
   "execution_count": 37,
   "metadata": {},
   "outputs": [
    {
     "data": {
      "text/plain": [
       "array([ 0,  2,  3,  1,  4,  6,  5,  8,  7,  9, 11], dtype=int64)"
      ]
     },
     "execution_count": 37,
     "metadata": {},
     "output_type": "execute_result"
    }
   ],
   "source": [
    "loan_df.delinq_2yrs.unique()"
   ]
  },
  {
   "cell_type": "code",
   "execution_count": 38,
   "metadata": {},
   "outputs": [
    {
     "data": {
      "text/plain": [
       "0    Jan-85\n",
       "1    Apr-99\n",
       "2    Nov-01\n",
       "3    Feb-96\n",
       "5    Nov-04\n",
       "Name: earliest_cr_line, dtype: object"
      ]
     },
     "execution_count": 38,
     "metadata": {},
     "output_type": "execute_result"
    }
   ],
   "source": [
    "loan_df.earliest_cr_line.head()\n",
    "# May be some drived metrics"
   ]
  },
  {
   "cell_type": "code",
   "execution_count": 39,
   "metadata": {},
   "outputs": [
    {
     "data": {
      "text/plain": [
       "array([1, 5, 2, 3, 0, 4, 6, 7, 8], dtype=int64)"
      ]
     },
     "execution_count": 39,
     "metadata": {},
     "output_type": "execute_result"
    }
   ],
   "source": [
    "loan_df.inq_last_6mths.unique()"
   ]
  },
  {
   "cell_type": "code",
   "execution_count": 40,
   "metadata": {},
   "outputs": [
    {
     "data": {
      "text/plain": [
       "array([13648,  1687,  2956, ..., 27185, 66033, 85607], dtype=int64)"
      ]
     },
     "execution_count": 40,
     "metadata": {},
     "output_type": "execute_result"
    }
   ],
   "source": [
    "loan_df.revol_bal.unique()"
   ]
  },
  {
   "cell_type": "code",
   "execution_count": 41,
   "metadata": {},
   "outputs": [
    {
     "data": {
      "text/plain": [
       "array([8.370e+01, 9.400e+00, 9.850e+01, ..., 4.963e+01, 4.000e-02,\n",
       "       7.280e+00])"
      ]
     },
     "execution_count": 41,
     "metadata": {},
     "output_type": "execute_result"
    }
   ],
   "source": [
    "loan_df.revol_util.unique()\n",
    "# Requires formating, add code above"
   ]
  },
  {
   "cell_type": "code",
   "execution_count": 42,
   "metadata": {},
   "outputs": [
    {
     "data": {
      "text/plain": [
       "array([ 9,  4, 10, 37, 12, 11, 13,  3, 23, 34, 29, 28, 42, 14, 22, 38, 21,\n",
       "       17,  7, 31, 44, 26, 16,  6, 18, 27, 25, 40, 35, 24,  8, 20, 15, 19,\n",
       "       36, 51, 32, 30, 33, 46,  5, 61, 56, 50, 41, 79, 62, 43, 47, 53, 45,\n",
       "       60, 55, 39, 52, 58, 54, 57, 49, 63, 48, 59, 77, 87, 75, 72, 64, 67,\n",
       "       78, 76, 74, 66, 81, 90, 80, 71, 69, 73, 70, 68, 65,  2],\n",
       "      dtype=int64)"
      ]
     },
     "execution_count": 42,
     "metadata": {},
     "output_type": "execute_result"
    }
   ],
   "source": [
    "loan_df.total_acc.unique()"
   ]
  },
  {
   "cell_type": "code",
   "execution_count": null,
   "metadata": {},
   "outputs": [],
   "source": []
  }
 ],
 "metadata": {
  "kernelspec": {
   "display_name": "Python 3",
   "language": "python",
   "name": "python3"
  },
  "language_info": {
   "codemirror_mode": {
    "name": "ipython",
    "version": 3
   },
   "file_extension": ".py",
   "mimetype": "text/x-python",
   "name": "python",
   "nbconvert_exporter": "python",
   "pygments_lexer": "ipython3",
   "version": "3.7.10"
  }
 },
 "nbformat": 4,
 "nbformat_minor": 5
}
